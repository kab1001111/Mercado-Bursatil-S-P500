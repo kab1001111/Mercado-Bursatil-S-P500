{
 "cells": [
  {
   "cell_type": "code",
   "execution_count": 1,
   "metadata": {},
   "outputs": [],
   "source": [
    "#Importamos Librerias\n",
    "import pandas as pd\n",
    "import matplotlib.pyplot as plt\n",
    "import matplotlib.dates as mdates\n",
    "import seaborn as sns\n",
    "import yfinance as yf\n",
    "from datetime import datetime, timedelta\n"
   ]
  },
  {
   "attachments": {},
   "cell_type": "markdown",
   "metadata": {},
   "source": [
    "Extracción y carga  del Dataframe de Yahoo Finance (yf).\n",
    "Extracion y carga del Dataframe Wikipedia"
   ]
  },
  {
   "cell_type": "code",
   "execution_count": 3,
   "metadata": {},
   "outputs": [
    {
     "name": "stdout",
     "output_type": "stream",
     "text": [
      "[*********************100%***********************]  1 of 1 completed\n"
     ]
    }
   ],
   "source": [
    "# Definimos la fecha de inicio de los ultimo 23 años \n",
    "start_date = datetime.now() - timedelta(days=23*365)\n",
    "# Descargar los datos históricos del S&P500\n",
    "SP500_df = yf.download(\"^GSPC\", start=start_date)"
   ]
  },
  {
   "cell_type": "code",
   "execution_count": 6,
   "metadata": {},
   "outputs": [],
   "source": [
    "SP500_df.to_csv('./sp_500.csv')"
   ]
  },
  {
   "cell_type": "code",
   "execution_count": 13,
   "metadata": {},
   "outputs": [],
   "source": [
    "SP500_df = pd.read_csv('./sp_500.csv',index_col=0, parse_dates=True)"
   ]
  },
  {
   "cell_type": "code",
   "execution_count": 21,
   "metadata": {},
   "outputs": [
    {
     "data": {
      "text/html": [
       "<div>\n",
       "<style scoped>\n",
       "    .dataframe tbody tr th:only-of-type {\n",
       "        vertical-align: middle;\n",
       "    }\n",
       "\n",
       "    .dataframe tbody tr th {\n",
       "        vertical-align: top;\n",
       "    }\n",
       "\n",
       "    .dataframe thead th {\n",
       "        text-align: right;\n",
       "    }\n",
       "</style>\n",
       "<table border=\"1\" class=\"dataframe\">\n",
       "  <thead>\n",
       "    <tr style=\"text-align: right;\">\n",
       "      <th></th>\n",
       "      <th>Open</th>\n",
       "      <th>High</th>\n",
       "      <th>Low</th>\n",
       "      <th>Close</th>\n",
       "      <th>Adj Close</th>\n",
       "      <th>Volume</th>\n",
       "    </tr>\n",
       "    <tr>\n",
       "      <th>Date</th>\n",
       "      <th></th>\n",
       "      <th></th>\n",
       "      <th></th>\n",
       "      <th></th>\n",
       "      <th></th>\n",
       "      <th></th>\n",
       "    </tr>\n",
       "  </thead>\n",
       "  <tbody>\n",
       "    <tr>\n",
       "      <th>2000-03-06</th>\n",
       "      <td>1409.170044</td>\n",
       "      <td>1409.739990</td>\n",
       "      <td>1384.750000</td>\n",
       "      <td>1391.280029</td>\n",
       "      <td>1391.280029</td>\n",
       "      <td>1029000000</td>\n",
       "    </tr>\n",
       "    <tr>\n",
       "      <th>2000-03-07</th>\n",
       "      <td>1391.280029</td>\n",
       "      <td>1399.209961</td>\n",
       "      <td>1349.989990</td>\n",
       "      <td>1355.619995</td>\n",
       "      <td>1355.619995</td>\n",
       "      <td>1314100000</td>\n",
       "    </tr>\n",
       "    <tr>\n",
       "      <th>2000-03-08</th>\n",
       "      <td>1355.619995</td>\n",
       "      <td>1373.790039</td>\n",
       "      <td>1346.619995</td>\n",
       "      <td>1366.699951</td>\n",
       "      <td>1366.699951</td>\n",
       "      <td>1203000000</td>\n",
       "    </tr>\n",
       "    <tr>\n",
       "      <th>2000-03-09</th>\n",
       "      <td>1366.699951</td>\n",
       "      <td>1401.819946</td>\n",
       "      <td>1357.880005</td>\n",
       "      <td>1401.689941</td>\n",
       "      <td>1401.689941</td>\n",
       "      <td>1123000000</td>\n",
       "    </tr>\n",
       "    <tr>\n",
       "      <th>2000-03-10</th>\n",
       "      <td>1401.689941</td>\n",
       "      <td>1413.459961</td>\n",
       "      <td>1392.069946</td>\n",
       "      <td>1395.069946</td>\n",
       "      <td>1395.069946</td>\n",
       "      <td>1138800000</td>\n",
       "    </tr>\n",
       "  </tbody>\n",
       "</table>\n",
       "</div>"
      ],
      "text/plain": [
       "                   Open         High          Low        Close    Adj Close  \\\n",
       "Date                                                                          \n",
       "2000-03-06  1409.170044  1409.739990  1384.750000  1391.280029  1391.280029   \n",
       "2000-03-07  1391.280029  1399.209961  1349.989990  1355.619995  1355.619995   \n",
       "2000-03-08  1355.619995  1373.790039  1346.619995  1366.699951  1366.699951   \n",
       "2000-03-09  1366.699951  1401.819946  1357.880005  1401.689941  1401.689941   \n",
       "2000-03-10  1401.689941  1413.459961  1392.069946  1395.069946  1395.069946   \n",
       "\n",
       "                Volume  \n",
       "Date                    \n",
       "2000-03-06  1029000000  \n",
       "2000-03-07  1314100000  \n",
       "2000-03-08  1203000000  \n",
       "2000-03-09  1123000000  \n",
       "2000-03-10  1138800000  "
      ]
     },
     "execution_count": 21,
     "metadata": {},
     "output_type": "execute_result"
    }
   ],
   "source": [
    "#Observamos las principales variable del datasets\n",
    "SP500_df.head()"
   ]
  },
  {
   "cell_type": "code",
   "execution_count": 49,
   "metadata": {},
   "outputs": [
    {
     "data": {
      "text/plain": [
       "<Axes: xlabel='Date'>"
      ]
     },
     "execution_count": 49,
     "metadata": {},
     "output_type": "execute_result"
    },
    {
     "data": {
      "image/png": "[encoded data removed]",
      "text/plain": [
       "<Figure size 640x480 with 1 Axes>"
      ]
     },
     "metadata": {},
     "output_type": "display_data"
    }
   ],
   "source": [
    "SP500_df['Close'].plot()\n"
   ]
  },
  {
   "cell_type": "code",
   "execution_count": 15,
   "metadata": {},
   "outputs": [
    {
     "data": {
      "text/plain": [
       "Text(0.5, 1.0, 'Crecimiento histórico del S&P500 en los ultimos 23 años')"
      ]
     },
     "execution_count": 15,
     "metadata": {},
     "output_type": "execute_result"
    },
    {
     "data": {
      "image/png": "[encoded data removed]",
      "text/plain": [
       "<Figure size 800x300 with 1 Axes>"
      ]
     },
     "metadata": {},
     "output_type": "display_data"
    }
   ],
   "source": [
    "fig = plt.figure(figsize=(8,3))\n",
    "sns.lineplot(x=\"Date\", y='Close', data=SP500_df)\n",
    "sns.set_style(\"darkgrid\")\n",
    "plt.title('Crecimiento histórico del S&P500 en los ultimos 23 años')\n"
   ]
  },
  {
   "attachments": {},
   "cell_type": "markdown",
   "metadata": {},
   "source": [
    "Hacemos los histogramas del S&P500 del cierre a la baja y a la alta y vemos la distribucion en dias como\n",
    "ha sido su comportamiento."
   ]
  },
  {
   "cell_type": "code",
   "execution_count": 50,
   "metadata": {},
   "outputs": [
    {
     "data": {
      "text/plain": [
       "<seaborn.axisgrid.FacetGrid at 0x25433f75f10>"
      ]
     },
     "execution_count": 50,
     "metadata": {},
     "output_type": "execute_result"
    },
    {
     "data": {
      "image/png": "[encoded data removed]",
      "text/plain": [
       "<Figure size 500x500 with 1 Axes>"
      ]
     },
     "metadata": {},
     "output_type": "display_data"
    }
   ],
   "source": [
    "#Hacemos un grafico para ver la distribucion de la variable de cierre.\n",
    "sns.displot( x= \"Close\",data=SP500_df) "
   ]
  },
  {
   "cell_type": "code",
   "execution_count": 6,
   "metadata": {},
   "outputs": [
    {
     "data": {
      "text/plain": [
       "<seaborn.axisgrid.FacetGrid at 0x1f222a4f710>"
      ]
     },
     "execution_count": 6,
     "metadata": {},
     "output_type": "execute_result"
    },
    {
     "data": {
      "image/png": "[encoded data removed]",
      "text/plain": [
       "<Figure size 500x500 with 1 Axes>"
      ]
     },
     "metadata": {},
     "output_type": "display_data"
    }
   ],
   "source": [
    "#Hacemos un grafico para ver la distribucion de la variable de donde en el indice estuvo mas alto.\n",
    "sns.displot( x= \"High\",data=SP500_df) "
   ]
  },
  {
   "cell_type": "code",
   "execution_count": 23,
   "metadata": {},
   "outputs": [
    {
     "data": {
      "text/plain": [
       "<Axes: xlabel='Low', ylabel='Count'>"
      ]
     },
     "execution_count": 23,
     "metadata": {},
     "output_type": "execute_result"
    },
    {
     "data": {
      "image/png": "[encoded data removed]",
      "text/plain": [
       "<Figure size 640x480 with 1 Axes>"
      ]
     },
     "metadata": {},
     "output_type": "display_data"
    }
   ],
   "source": [
    "#Hacemos un grafico para ver la distribucion de la variable de cierre.\n",
    "sns.histplot( x= \"Low\",data=SP500_df) "
   ]
  },
  {
   "cell_type": "code",
   "execution_count": null,
   "metadata": {},
   "outputs": [],
   "source": []
  },
  {
   "cell_type": "code",
   "execution_count": 52,
   "metadata": {},
   "outputs": [
    {
     "data": {
      "text/html": [
       "<div>\n",
       "<style scoped>\n",
       "    .dataframe tbody tr th:only-of-type {\n",
       "        vertical-align: middle;\n",
       "    }\n",
       "\n",
       "    .dataframe tbody tr th {\n",
       "        vertical-align: top;\n",
       "    }\n",
       "\n",
       "    .dataframe thead th {\n",
       "        text-align: right;\n",
       "    }\n",
       "</style>\n",
       "<table border=\"1\" class=\"dataframe\">\n",
       "  <thead>\n",
       "    <tr style=\"text-align: right;\">\n",
       "      <th></th>\n",
       "      <th>Open</th>\n",
       "      <th>High</th>\n",
       "      <th>Low</th>\n",
       "      <th>Close</th>\n",
       "      <th>Adj Close</th>\n",
       "      <th>Volume</th>\n",
       "    </tr>\n",
       "  </thead>\n",
       "  <tbody>\n",
       "    <tr>\n",
       "      <th>count</th>\n",
       "      <td>5782.000000</td>\n",
       "      <td>5782.000000</td>\n",
       "      <td>5782.000000</td>\n",
       "      <td>5782.000000</td>\n",
       "      <td>5782.000000</td>\n",
       "      <td>5.782000e+03</td>\n",
       "    </tr>\n",
       "    <tr>\n",
       "      <th>mean</th>\n",
       "      <td>1890.694237</td>\n",
       "      <td>1901.981901</td>\n",
       "      <td>1878.477065</td>\n",
       "      <td>1890.926020</td>\n",
       "      <td>1890.926020</td>\n",
       "      <td>3.319084e+09</td>\n",
       "    </tr>\n",
       "    <tr>\n",
       "      <th>std</th>\n",
       "      <td>980.059778</td>\n",
       "      <td>985.208758</td>\n",
       "      <td>974.431778</td>\n",
       "      <td>980.179592</td>\n",
       "      <td>980.179592</td>\n",
       "      <td>1.516176e+09</td>\n",
       "    </tr>\n",
       "    <tr>\n",
       "      <th>min</th>\n",
       "      <td>679.280029</td>\n",
       "      <td>695.270020</td>\n",
       "      <td>666.789978</td>\n",
       "      <td>676.530029</td>\n",
       "      <td>676.530029</td>\n",
       "      <td>3.560700e+08</td>\n",
       "    </tr>\n",
       "    <tr>\n",
       "      <th>25%</th>\n",
       "      <td>1183.757507</td>\n",
       "      <td>1190.560028</td>\n",
       "      <td>1175.489960</td>\n",
       "      <td>1183.535034</td>\n",
       "      <td>1183.535034</td>\n",
       "      <td>2.048872e+09</td>\n",
       "    </tr>\n",
       "    <tr>\n",
       "      <th>50%</th>\n",
       "      <td>1436.885010</td>\n",
       "      <td>1446.885010</td>\n",
       "      <td>1428.969971</td>\n",
       "      <td>1437.635010</td>\n",
       "      <td>1437.635010</td>\n",
       "      <td>3.420585e+09</td>\n",
       "    </tr>\n",
       "    <tr>\n",
       "      <th>75%</th>\n",
       "      <td>2401.197449</td>\n",
       "      <td>2414.030029</td>\n",
       "      <td>2391.674927</td>\n",
       "      <td>2400.409912</td>\n",
       "      <td>2400.409912</td>\n",
       "      <td>4.165180e+09</td>\n",
       "    </tr>\n",
       "    <tr>\n",
       "      <th>max</th>\n",
       "      <td>4804.509766</td>\n",
       "      <td>4818.620117</td>\n",
       "      <td>4780.040039</td>\n",
       "      <td>4796.560059</td>\n",
       "      <td>4796.560059</td>\n",
       "      <td>1.145623e+10</td>\n",
       "    </tr>\n",
       "  </tbody>\n",
       "</table>\n",
       "</div>"
      ],
      "text/plain": [
       "              Open         High          Low        Close    Adj Close  \\\n",
       "count  5782.000000  5782.000000  5782.000000  5782.000000  5782.000000   \n",
       "mean   1890.694237  1901.981901  1878.477065  1890.926020  1890.926020   \n",
       "std     980.059778   985.208758   974.431778   980.179592   980.179592   \n",
       "min     679.280029   695.270020   666.789978   676.530029   676.530029   \n",
       "25%    1183.757507  1190.560028  1175.489960  1183.535034  1183.535034   \n",
       "50%    1436.885010  1446.885010  1428.969971  1437.635010  1437.635010   \n",
       "75%    2401.197449  2414.030029  2391.674927  2400.409912  2400.409912   \n",
       "max    4804.509766  4818.620117  4780.040039  4796.560059  4796.560059   \n",
       "\n",
       "             Volume  \n",
       "count  5.782000e+03  \n",
       "mean   3.319084e+09  \n",
       "std    1.516176e+09  \n",
       "min    3.560700e+08  \n",
       "25%    2.048872e+09  \n",
       "50%    3.420585e+09  \n",
       "75%    4.165180e+09  \n",
       "max    1.145623e+10  "
      ]
     },
     "execution_count": 52,
     "metadata": {},
     "output_type": "execute_result"
    }
   ],
   "source": [
    "#Analizamos los valores del SP&500 en los ultimos 23 años \n",
    "#viendo su promedio,  desviacion standard, media y otras variables estadisticas descriptivas.\n",
    "SP500_df.describe()"
   ]
  },
  {
   "cell_type": "code",
   "execution_count": 17,
   "metadata": {},
   "outputs": [],
   "source": [
    "#Añadimos otro dataset complentario para poder hacer un analisis del S&P500 por sectores y con otras variables.\n",
    "\n",
    "sp_500II = pd.read_csv('C:/Users/berna/OneDrive/Desktop/Analitics_PI03/constituents-financials.csv')"
   ]
  },
  {
   "cell_type": "code",
   "execution_count": 18,
   "metadata": {},
   "outputs": [
    {
     "data": {
      "text/html": [
       "<div>\n",
       "<style scoped>\n",
       "    .dataframe tbody tr th:only-of-type {\n",
       "        vertical-align: middle;\n",
       "    }\n",
       "\n",
       "    .dataframe tbody tr th {\n",
       "        vertical-align: top;\n",
       "    }\n",
       "\n",
       "    .dataframe thead th {\n",
       "        text-align: right;\n",
       "    }\n",
       "</style>\n",
       "<table border=\"1\" class=\"dataframe\">\n",
       "  <thead>\n",
       "    <tr style=\"text-align: right;\">\n",
       "      <th></th>\n",
       "      <th>Symbol</th>\n",
       "      <th>Name</th>\n",
       "      <th>Sector</th>\n",
       "      <th>Price</th>\n",
       "      <th>Price/Earnings</th>\n",
       "      <th>Dividend Yield</th>\n",
       "      <th>Earnings/Share</th>\n",
       "      <th>52 Week Low</th>\n",
       "      <th>52 Week High</th>\n",
       "      <th>Market Cap</th>\n",
       "      <th>EBITDA</th>\n",
       "      <th>Price/Sales</th>\n",
       "      <th>Price/Book</th>\n",
       "      <th>SEC Filings</th>\n",
       "    </tr>\n",
       "  </thead>\n",
       "  <tbody>\n",
       "    <tr>\n",
       "      <th>0</th>\n",
       "      <td>MMM</td>\n",
       "      <td>3M Company</td>\n",
       "      <td>Industrials</td>\n",
       "      <td>222.89</td>\n",
       "      <td>24.31</td>\n",
       "      <td>2.332862</td>\n",
       "      <td>7.92</td>\n",
       "      <td>259.77</td>\n",
       "      <td>175.490</td>\n",
       "      <td>138721055226</td>\n",
       "      <td>9.048000e+09</td>\n",
       "      <td>4.390271</td>\n",
       "      <td>11.34</td>\n",
       "      <td>http://www.sec.gov/cgi-bin/browse-edgar?action...</td>\n",
       "    </tr>\n",
       "    <tr>\n",
       "      <th>1</th>\n",
       "      <td>AOS</td>\n",
       "      <td>A.O. Smith Corp</td>\n",
       "      <td>Industrials</td>\n",
       "      <td>60.24</td>\n",
       "      <td>27.76</td>\n",
       "      <td>1.147959</td>\n",
       "      <td>1.70</td>\n",
       "      <td>68.39</td>\n",
       "      <td>48.925</td>\n",
       "      <td>10783419933</td>\n",
       "      <td>6.010000e+08</td>\n",
       "      <td>3.575483</td>\n",
       "      <td>6.35</td>\n",
       "      <td>http://www.sec.gov/cgi-bin/browse-edgar?action...</td>\n",
       "    </tr>\n",
       "    <tr>\n",
       "      <th>2</th>\n",
       "      <td>ABT</td>\n",
       "      <td>Abbott Laboratories</td>\n",
       "      <td>Health Care</td>\n",
       "      <td>56.27</td>\n",
       "      <td>22.51</td>\n",
       "      <td>1.908982</td>\n",
       "      <td>0.26</td>\n",
       "      <td>64.60</td>\n",
       "      <td>42.280</td>\n",
       "      <td>102121042306</td>\n",
       "      <td>5.744000e+09</td>\n",
       "      <td>3.740480</td>\n",
       "      <td>3.19</td>\n",
       "      <td>http://www.sec.gov/cgi-bin/browse-edgar?action...</td>\n",
       "    </tr>\n",
       "  </tbody>\n",
       "</table>\n",
       "</div>"
      ],
      "text/plain": [
       "  Symbol                 Name       Sector   Price  Price/Earnings  \\\n",
       "0    MMM           3M Company  Industrials  222.89           24.31   \n",
       "1    AOS      A.O. Smith Corp  Industrials   60.24           27.76   \n",
       "2    ABT  Abbott Laboratories  Health Care   56.27           22.51   \n",
       "\n",
       "   Dividend Yield  Earnings/Share  52 Week Low  52 Week High    Market Cap  \\\n",
       "0        2.332862            7.92       259.77       175.490  138721055226   \n",
       "1        1.147959            1.70        68.39        48.925   10783419933   \n",
       "2        1.908982            0.26        64.60        42.280  102121042306   \n",
       "\n",
       "         EBITDA  Price/Sales  Price/Book  \\\n",
       "0  9.048000e+09     4.390271       11.34   \n",
       "1  6.010000e+08     3.575483        6.35   \n",
       "2  5.744000e+09     3.740480        3.19   \n",
       "\n",
       "                                         SEC Filings  \n",
       "0  http://www.sec.gov/cgi-bin/browse-edgar?action...  \n",
       "1  http://www.sec.gov/cgi-bin/browse-edgar?action...  \n",
       "2  http://www.sec.gov/cgi-bin/browse-edgar?action...  "
      ]
     },
     "execution_count": 18,
     "metadata": {},
     "output_type": "execute_result"
    }
   ],
   "source": [
    "sp_500II.head(3)"
   ]
  },
  {
   "cell_type": "code",
   "execution_count": 10,
   "metadata": {},
   "outputs": [
    {
     "name": "stdout",
     "output_type": "stream",
     "text": [
      "<class 'pandas.core.frame.DataFrame'>\n",
      "RangeIndex: 505 entries, 0 to 504\n",
      "Data columns (total 14 columns):\n",
      " #   Column          Non-Null Count  Dtype  \n",
      "---  ------          --------------  -----  \n",
      " 0   Symbol          505 non-null    object \n",
      " 1   Name            505 non-null    object \n",
      " 2   Sector          505 non-null    object \n",
      " 3   Price           505 non-null    float64\n",
      " 4   Price/Earnings  503 non-null    float64\n",
      " 5   Dividend Yield  505 non-null    float64\n",
      " 6   Earnings/Share  505 non-null    float64\n",
      " 7   52 Week Low     505 non-null    float64\n",
      " 8   52 Week High    505 non-null    float64\n",
      " 9   Market Cap      505 non-null    int64  \n",
      " 10  EBITDA          505 non-null    float64\n",
      " 11  Price/Sales     505 non-null    float64\n",
      " 12  Price/Book      497 non-null    float64\n",
      " 13  SEC Filings     505 non-null    object \n",
      "dtypes: float64(9), int64(1), object(4)\n",
      "memory usage: 55.4+ KB\n"
     ]
    }
   ],
   "source": [
    "#observamos el tipo de variables que  tien nuestro Dataset. obesrvamos que tenemos variable categoricas y numericas\n",
    "sp_500II.info()"
   ]
  },
  {
   "cell_type": "code",
   "execution_count": 11,
   "metadata": {},
   "outputs": [
    {
     "data": {
      "text/plain": [
       "Symbol            0\n",
       "Name              0\n",
       "Sector            0\n",
       "Price             0\n",
       "Price/Earnings    2\n",
       "Dividend Yield    0\n",
       "Earnings/Share    0\n",
       "52 Week Low       0\n",
       "52 Week High      0\n",
       "Market Cap        0\n",
       "EBITDA            0\n",
       "Price/Sales       0\n",
       "Price/Book        8\n",
       "SEC Filings       0\n",
       "dtype: int64"
      ]
     },
     "execution_count": 11,
     "metadata": {},
     "output_type": "execute_result"
    }
   ],
   "source": [
    "#observamos la cantidad de datos nulos que tiene el Dataframe y vemos que escasa.\n",
    "sp_500II.isnull().sum()"
   ]
  },
  {
   "attachments": {},
   "cell_type": "markdown",
   "metadata": {},
   "source": [
    "##**Hacemos un analisis por Sector del S&P5003**"
   ]
  },
  {
   "cell_type": "code",
   "execution_count": 19,
   "metadata": {},
   "outputs": [
    {
     "data": {
      "text/plain": [
       "Text(0.5, 1.0, 'Crecimiento y tamaño de los sectores del S&P500')"
      ]
     },
     "execution_count": 19,
     "metadata": {},
     "output_type": "execute_result"
    },
    {
     "data": {
      "image/png": "[encoded data removed]",
      "text/plain": [
       "<Figure size 800x400 with 1 Axes>"
      ]
     },
     "metadata": {},
     "output_type": "display_data"
    }
   ],
   "source": [
    "# hacemos el grafico del Sector que mas ha crecido del S&P500\n",
    "fig = plt.figure(figsize=(8,4))\n",
    "sns.barplot(x=\"Price\", y='Sector', data=sp_500II)\n",
    "sns.set_style(\"darkgrid\")\n",
    "plt.title('Crecimiento y tamaño de los sectores del S&P500')"
   ]
  },
  {
   "attachments": {},
   "cell_type": "markdown",
   "metadata": {},
   "source": [
    "##Observamos que los sectores de mayor creciemiento como el Industrial, Salud y Tecnologia."
   ]
  },
  {
   "attachments": {},
   "cell_type": "markdown",
   "metadata": {},
   "source": [
    "Ahora vamos a analizar el datasets de las 500 empresas del S&P500 para filtrar las empresas a ecoger por sectores:\n",
    "Tecnologico, Salud e Industrial"
   ]
  },
  {
   "cell_type": "code",
   "execution_count": 3,
   "metadata": {},
   "outputs": [],
   "source": [
    "df_companies =pd.read_csv('dataspx500.csv')"
   ]
  },
  {
   "cell_type": "code",
   "execution_count": 9,
   "metadata": {},
   "outputs": [
    {
     "data": {
      "text/html": [
       "<div>\n",
       "<style scoped>\n",
       "    .dataframe tbody tr th:only-of-type {\n",
       "        vertical-align: middle;\n",
       "    }\n",
       "\n",
       "    .dataframe tbody tr th {\n",
       "        vertical-align: top;\n",
       "    }\n",
       "\n",
       "    .dataframe thead th {\n",
       "        text-align: right;\n",
       "    }\n",
       "</style>\n",
       "<table border=\"1\" class=\"dataframe\">\n",
       "  <thead>\n",
       "    <tr style=\"text-align: right;\">\n",
       "      <th></th>\n",
       "      <th>Symbol</th>\n",
       "      <th>Security</th>\n",
       "      <th>GICS Sector</th>\n",
       "      <th>GICS Sub-Industry</th>\n",
       "      <th>Headquarters Location</th>\n",
       "      <th>Date added</th>\n",
       "      <th>CIK</th>\n",
       "      <th>Founded</th>\n",
       "    </tr>\n",
       "  </thead>\n",
       "  <tbody>\n",
       "    <tr>\n",
       "      <th>0</th>\n",
       "      <td>MMM</td>\n",
       "      <td>3M</td>\n",
       "      <td>Industrials</td>\n",
       "      <td>Industrial Conglomerates</td>\n",
       "      <td>Saint Paul, Minnesota</td>\n",
       "      <td>1957-03-04</td>\n",
       "      <td>66740</td>\n",
       "      <td>1902</td>\n",
       "    </tr>\n",
       "    <tr>\n",
       "      <th>1</th>\n",
       "      <td>AOS</td>\n",
       "      <td>A. O. Smith</td>\n",
       "      <td>Industrials</td>\n",
       "      <td>Building Products</td>\n",
       "      <td>Milwaukee, Wisconsin</td>\n",
       "      <td>2017-07-26</td>\n",
       "      <td>91142</td>\n",
       "      <td>1916</td>\n",
       "    </tr>\n",
       "    <tr>\n",
       "      <th>2</th>\n",
       "      <td>ABT</td>\n",
       "      <td>Abbott</td>\n",
       "      <td>Health Care</td>\n",
       "      <td>Health Care Equipment</td>\n",
       "      <td>North Chicago, Illinois</td>\n",
       "      <td>1957-03-04</td>\n",
       "      <td>1800</td>\n",
       "      <td>1888</td>\n",
       "    </tr>\n",
       "    <tr>\n",
       "      <th>3</th>\n",
       "      <td>ABBV</td>\n",
       "      <td>AbbVie</td>\n",
       "      <td>Health Care</td>\n",
       "      <td>Pharmaceuticals</td>\n",
       "      <td>North Chicago, Illinois</td>\n",
       "      <td>2012-12-31</td>\n",
       "      <td>1551152</td>\n",
       "      <td>2013 (1888)</td>\n",
       "    </tr>\n",
       "    <tr>\n",
       "      <th>4</th>\n",
       "      <td>ACN</td>\n",
       "      <td>Accenture</td>\n",
       "      <td>Information Technology</td>\n",
       "      <td>IT Consulting &amp; Other Services</td>\n",
       "      <td>Dublin, Ireland</td>\n",
       "      <td>2011-07-06</td>\n",
       "      <td>1467373</td>\n",
       "      <td>1989</td>\n",
       "    </tr>\n",
       "    <tr>\n",
       "      <th>5</th>\n",
       "      <td>ATVI</td>\n",
       "      <td>Activision Blizzard</td>\n",
       "      <td>Communication Services</td>\n",
       "      <td>Interactive Home Entertainment</td>\n",
       "      <td>Santa Monica, California</td>\n",
       "      <td>2015-08-31</td>\n",
       "      <td>718877</td>\n",
       "      <td>2008</td>\n",
       "    </tr>\n",
       "    <tr>\n",
       "      <th>6</th>\n",
       "      <td>ADM</td>\n",
       "      <td>ADM</td>\n",
       "      <td>Consumer Staples</td>\n",
       "      <td>Agricultural Products</td>\n",
       "      <td>Chicago, Illinois</td>\n",
       "      <td>1957-03-04</td>\n",
       "      <td>7084</td>\n",
       "      <td>1902</td>\n",
       "    </tr>\n",
       "    <tr>\n",
       "      <th>7</th>\n",
       "      <td>ADBE</td>\n",
       "      <td>Adobe Inc.</td>\n",
       "      <td>Information Technology</td>\n",
       "      <td>Application Software</td>\n",
       "      <td>San Jose, California</td>\n",
       "      <td>1997-05-05</td>\n",
       "      <td>796343</td>\n",
       "      <td>1982</td>\n",
       "    </tr>\n",
       "    <tr>\n",
       "      <th>8</th>\n",
       "      <td>ADP</td>\n",
       "      <td>ADP</td>\n",
       "      <td>Information Technology</td>\n",
       "      <td>Data Processing &amp; Outsourced Services</td>\n",
       "      <td>Roseland, New Jersey</td>\n",
       "      <td>1981-03-31</td>\n",
       "      <td>8670</td>\n",
       "      <td>1949</td>\n",
       "    </tr>\n",
       "    <tr>\n",
       "      <th>9</th>\n",
       "      <td>AAP</td>\n",
       "      <td>Advance Auto Parts</td>\n",
       "      <td>Consumer Discretionary</td>\n",
       "      <td>Automotive Retail</td>\n",
       "      <td>Raleigh, North Carolina</td>\n",
       "      <td>2015-07-09</td>\n",
       "      <td>1158449</td>\n",
       "      <td>1932</td>\n",
       "    </tr>\n",
       "  </tbody>\n",
       "</table>\n",
       "</div>"
      ],
      "text/plain": [
       "  Symbol             Security             GICS Sector  \\\n",
       "0    MMM                   3M             Industrials   \n",
       "1    AOS          A. O. Smith             Industrials   \n",
       "2    ABT               Abbott             Health Care   \n",
       "3   ABBV               AbbVie             Health Care   \n",
       "4    ACN            Accenture  Information Technology   \n",
       "5   ATVI  Activision Blizzard  Communication Services   \n",
       "6    ADM                  ADM        Consumer Staples   \n",
       "7   ADBE           Adobe Inc.  Information Technology   \n",
       "8    ADP                  ADP  Information Technology   \n",
       "9    AAP   Advance Auto Parts  Consumer Discretionary   \n",
       "\n",
       "                       GICS Sub-Industry     Headquarters Location  \\\n",
       "0               Industrial Conglomerates     Saint Paul, Minnesota   \n",
       "1                      Building Products      Milwaukee, Wisconsin   \n",
       "2                  Health Care Equipment   North Chicago, Illinois   \n",
       "3                        Pharmaceuticals   North Chicago, Illinois   \n",
       "4         IT Consulting & Other Services           Dublin, Ireland   \n",
       "5         Interactive Home Entertainment  Santa Monica, California   \n",
       "6                  Agricultural Products         Chicago, Illinois   \n",
       "7                   Application Software      San Jose, California   \n",
       "8  Data Processing & Outsourced Services      Roseland, New Jersey   \n",
       "9                      Automotive Retail   Raleigh, North Carolina   \n",
       "\n",
       "   Date added      CIK      Founded  \n",
       "0  1957-03-04    66740         1902  \n",
       "1  2017-07-26    91142         1916  \n",
       "2  1957-03-04     1800         1888  \n",
       "3  2012-12-31  1551152  2013 (1888)  \n",
       "4  2011-07-06  1467373         1989  \n",
       "5  2015-08-31   718877         2008  \n",
       "6  1957-03-04     7084         1902  \n",
       "7  1997-05-05   796343         1982  \n",
       "8  1981-03-31     8670         1949  \n",
       "9  2015-07-09  1158449         1932  "
      ]
     },
     "execution_count": 9,
     "metadata": {},
     "output_type": "execute_result"
    }
   ],
   "source": [
    "#Cargamos el dataset\n",
    "df_companies.head(10)"
   ]
  },
  {
   "cell_type": "code",
   "execution_count": 8,
   "metadata": {},
   "outputs": [
    {
     "name": "stdout",
     "output_type": "stream",
     "text": [
      "<class 'pandas.core.frame.DataFrame'>\n",
      "RangeIndex: 503 entries, 0 to 502\n",
      "Data columns (total 8 columns):\n",
      " #   Column                 Non-Null Count  Dtype \n",
      "---  ------                 --------------  ----- \n",
      " 0   Symbol                 503 non-null    object\n",
      " 1   Security               503 non-null    object\n",
      " 2   GICS Sector            503 non-null    object\n",
      " 3   GICS Sub-Industry      503 non-null    object\n",
      " 4   Headquarters Location  503 non-null    object\n",
      " 5   Date added             499 non-null    object\n",
      " 6   CIK                    503 non-null    int64 \n",
      " 7   Founded                503 non-null    object\n",
      "dtypes: int64(1), object(7)\n",
      "memory usage: 31.6+ KB\n"
     ]
    }
   ],
   "source": [
    "#Observamos las variables y el tipo de datos\n",
    "df_companies.info()"
   ]
  },
  {
   "cell_type": "code",
   "execution_count": null,
   "metadata": {},
   "outputs": [],
   "source": []
  },
  {
   "cell_type": "code",
   "execution_count": 23,
   "metadata": {},
   "outputs": [
    {
     "name": "stdout",
     "output_type": "stream",
     "text": [
      "[*********************100%***********************]  6 of 6 completed\n",
      "                  AAPL       AMZN      GOOGL        MSFT        NFLX  \\\n",
      "Date                                                                   \n",
      "2000-01-03    0.999442   4.468750        NaN   58.281250         NaN   \n",
      "2000-01-04    0.915179   4.096875        NaN   56.312500         NaN   \n",
      "2000-01-05    0.928571   3.487500        NaN   56.906250         NaN   \n",
      "2000-01-06    0.848214   3.278125        NaN   55.000000         NaN   \n",
      "2000-01-07    0.888393   3.478125        NaN   55.718750         NaN   \n",
      "...                ...        ...        ...         ...         ...   \n",
      "2023-02-21  148.479996  94.580002  91.790001  252.669998  337.500000   \n",
      "2023-02-22  148.910004  95.790001  91.650002  251.509995  334.880005   \n",
      "2023-02-23  149.399994  95.820000  90.889999  254.770004  323.649994   \n",
      "2023-02-24  146.710007  93.500000  89.129997  249.220001  317.149994   \n",
      "2023-02-27  147.919998  93.760002  89.870003  250.160004  323.029999   \n",
      "\n",
      "                  NVDA  \n",
      "Date                    \n",
      "2000-01-03    0.975260  \n",
      "2000-01-04    0.949219  \n",
      "2000-01-05    0.917969  \n",
      "2000-01-06    0.858073  \n",
      "2000-01-07    0.872396  \n",
      "...                ...  \n",
      "2023-02-21  206.550003  \n",
      "2023-02-22  207.539993  \n",
      "2023-02-23  236.639999  \n",
      "2023-02-24  232.860001  \n",
      "2023-02-27  235.009995  \n",
      "\n",
      "[5825 rows x 6 columns]\n"
     ]
    }
   ],
   "source": [
    "\n",
    "\n",
    "#Analizamos el cierre de varias empresas del sector tecnologia en los ultimos 23 años\n",
    "# Crear una lista con los símbolos de las empresas\n",
    "symbols = ['AAPL', 'MSFT', 'AMZN', 'GOOGL','NFLX','NVDA']\n",
    "# Obtener los datos de las empresas\n",
    "companies = yf.download(symbols, start='2000-01-01', end='2023-02-28', interval='1d')\n",
    "# Seleccionar la columna 'Close' de cada empresa\n",
    "close_prices_tec = companies['Close']\n",
    "# Imprimir los precios de cierre\n",
    "print(close_prices_tec)"
   ]
  },
  {
   "cell_type": "code",
   "execution_count": 24,
   "metadata": {},
   "outputs": [],
   "source": [
    "close_prices_tec.to_csv(('./tecnologia.csv'))"
   ]
  },
  {
   "cell_type": "code",
   "execution_count": 29,
   "metadata": {},
   "outputs": [],
   "source": [
    "close_prices_tec = pd.read_csv('tecnologia.csv',index_col=0, parse_dates=True)"
   ]
  },
  {
   "cell_type": "code",
   "execution_count": 30,
   "metadata": {},
   "outputs": [
    {
     "name": "stdout",
     "output_type": "stream",
     "text": [
      "<class 'pandas.core.frame.DataFrame'>\n",
      "DatetimeIndex: 5825 entries, 2000-01-03 to 2023-02-27\n",
      "Data columns (total 6 columns):\n",
      " #   Column  Non-Null Count  Dtype  \n",
      "---  ------  --------------  -----  \n",
      " 0   AAPL    5825 non-null   float64\n",
      " 1   AMZN    5825 non-null   float64\n",
      " 2   GOOGL   4663 non-null   float64\n",
      " 3   MSFT    5825 non-null   float64\n",
      " 4   NFLX    5227 non-null   float64\n",
      " 5   NVDA    5825 non-null   float64\n",
      "dtypes: float64(6)\n",
      "memory usage: 318.6 KB\n"
     ]
    }
   ],
   "source": [
    "#observamos  nuestro nuevo datasets y observamos variables\n",
    "close_prices_tec.info()"
   ]
  },
  {
   "cell_type": "code",
   "execution_count": 32,
   "metadata": {},
   "outputs": [
    {
     "data": {
      "text/html": [
       "<div>\n",
       "<style scoped>\n",
       "    .dataframe tbody tr th:only-of-type {\n",
       "        vertical-align: middle;\n",
       "    }\n",
       "\n",
       "    .dataframe tbody tr th {\n",
       "        vertical-align: top;\n",
       "    }\n",
       "\n",
       "    .dataframe thead th {\n",
       "        text-align: right;\n",
       "    }\n",
       "</style>\n",
       "<table border=\"1\" class=\"dataframe\">\n",
       "  <thead>\n",
       "    <tr style=\"text-align: right;\">\n",
       "      <th></th>\n",
       "      <th>AAPL</th>\n",
       "      <th>AMZN</th>\n",
       "      <th>GOOGL</th>\n",
       "      <th>MSFT</th>\n",
       "      <th>NFLX</th>\n",
       "      <th>NVDA</th>\n",
       "    </tr>\n",
       "    <tr>\n",
       "      <th>Date</th>\n",
       "      <th></th>\n",
       "      <th></th>\n",
       "      <th></th>\n",
       "      <th></th>\n",
       "      <th></th>\n",
       "      <th></th>\n",
       "    </tr>\n",
       "  </thead>\n",
       "  <tbody>\n",
       "    <tr>\n",
       "      <th>2000-01-03</th>\n",
       "      <td>0.999442</td>\n",
       "      <td>4.468750</td>\n",
       "      <td>NaN</td>\n",
       "      <td>58.28125</td>\n",
       "      <td>NaN</td>\n",
       "      <td>0.975260</td>\n",
       "    </tr>\n",
       "    <tr>\n",
       "      <th>2000-01-04</th>\n",
       "      <td>0.915179</td>\n",
       "      <td>4.096875</td>\n",
       "      <td>NaN</td>\n",
       "      <td>56.31250</td>\n",
       "      <td>NaN</td>\n",
       "      <td>0.949219</td>\n",
       "    </tr>\n",
       "    <tr>\n",
       "      <th>2000-01-05</th>\n",
       "      <td>0.928571</td>\n",
       "      <td>3.487500</td>\n",
       "      <td>NaN</td>\n",
       "      <td>56.90625</td>\n",
       "      <td>NaN</td>\n",
       "      <td>0.917969</td>\n",
       "    </tr>\n",
       "    <tr>\n",
       "      <th>2000-01-06</th>\n",
       "      <td>0.848214</td>\n",
       "      <td>3.278125</td>\n",
       "      <td>NaN</td>\n",
       "      <td>55.00000</td>\n",
       "      <td>NaN</td>\n",
       "      <td>0.858073</td>\n",
       "    </tr>\n",
       "    <tr>\n",
       "      <th>2000-01-07</th>\n",
       "      <td>0.888393</td>\n",
       "      <td>3.478125</td>\n",
       "      <td>NaN</td>\n",
       "      <td>55.71875</td>\n",
       "      <td>NaN</td>\n",
       "      <td>0.872396</td>\n",
       "    </tr>\n",
       "  </tbody>\n",
       "</table>\n",
       "</div>"
      ],
      "text/plain": [
       "                AAPL      AMZN  GOOGL      MSFT  NFLX      NVDA\n",
       "Date                                                           \n",
       "2000-01-03  0.999442  4.468750    NaN  58.28125   NaN  0.975260\n",
       "2000-01-04  0.915179  4.096875    NaN  56.31250   NaN  0.949219\n",
       "2000-01-05  0.928571  3.487500    NaN  56.90625   NaN  0.917969\n",
       "2000-01-06  0.848214  3.278125    NaN  55.00000   NaN  0.858073\n",
       "2000-01-07  0.888393  3.478125    NaN  55.71875   NaN  0.872396"
      ]
     },
     "execution_count": 32,
     "metadata": {},
     "output_type": "execute_result"
    }
   ],
   "source": [
    "close_prices_tec.head()"
   ]
  },
  {
   "cell_type": "code",
   "execution_count": 33,
   "metadata": {},
   "outputs": [
    {
     "data": {
      "text/plain": [
       "AAPL        0\n",
       "AMZN        0\n",
       "GOOGL    1162\n",
       "MSFT        0\n",
       "NFLX      598\n",
       "NVDA        0\n",
       "dtype: int64"
      ]
     },
     "execution_count": 33,
     "metadata": {},
     "output_type": "execute_result"
    }
   ],
   "source": [
    "# Vemos cuantos Nulos se encuentran en cada columna\n",
    "close_prices_tec.isnull().sum()"
   ]
  },
  {
   "cell_type": "code",
   "execution_count": 28,
   "metadata": {},
   "outputs": [
    {
     "data": {
      "text/plain": [
       "Text(0.5, 1.0, 'Comparación de las empresas de Tecnología del S&P500 más grandes')"
      ]
     },
     "execution_count": 28,
     "metadata": {},
     "output_type": "execute_result"
    },
    {
     "data": {
      "image/png": "[encoded data removed]",
      "text/plain": [
       "<Figure size 800x300 with 1 Axes>"
      ]
     },
     "metadata": {},
     "output_type": "display_data"
    }
   ],
   "source": [
    "fig = plt.figure(figsize=(8,3))\n",
    "sns.lineplot(x='Date', y='AAPL', data=close_prices_tec)\n",
    "sns.lineplot(x='Date', y='AMZN', data=close_prices_tec)\n",
    "sns.lineplot(x='Date', y='GOOGL', data=close_prices_tec)\n",
    "sns.lineplot(x='Date', y='MSFT', data=close_prices_tec)\n",
    "sns.lineplot(x='Date', y='NFLX', data=close_prices_tec)\n",
    "sns.set_style(\"darkgrid\")\n",
    "plt.title('Comparación de las empresas de Tecnología del S&P500 más grandes')\n"
   ]
  },
  {
   "attachments": {},
   "cell_type": "markdown",
   "metadata": {},
   "source": [
    "En este Gráfico analizamos los precios de Cierre de las cuatro empresas mas grandes de Tecnología  que conforman el S&P500"
   ]
  },
  {
   "cell_type": "code",
   "execution_count": 12,
   "metadata": {},
   "outputs": [
    {
     "name": "stdout",
     "output_type": "stream",
     "text": [
      "[*********************100%***********************]  6 of 6 completed\n",
      "                  ABBV         JNJ         LLY         MRK         NVO  UHN\n",
      "Date                                                                       \n",
      "2000-01-03         NaN   46.093750   65.562500   64.527672    2.690000  NaN\n",
      "2000-01-04         NaN   44.406250   63.500000   62.261452    2.677500  NaN\n",
      "2000-01-05         NaN   44.875000   64.312500   64.706581    2.627500  NaN\n",
      "2000-01-06         NaN   46.281250   66.187500   65.243324    2.670000  NaN\n",
      "2000-01-07         NaN   48.250000   71.062500   71.505249    2.740000  NaN\n",
      "...                ...         ...         ...         ...         ...  ...\n",
      "2023-02-21  152.000000  158.000000  327.510010  109.070000  142.610001  NaN\n",
      "2023-02-22  150.669998  157.779999  329.070007  109.160004  142.250000  NaN\n",
      "2023-02-23  152.070007  157.729996  327.519989  110.589996  142.889999  NaN\n",
      "2023-02-24  152.710007  155.970001  321.640015  109.889999  141.600006  NaN\n",
      "2023-02-27  154.279999  155.630005  316.619995  109.360001  143.360001  NaN\n",
      "\n",
      "[5825 rows x 6 columns]\n"
     ]
    }
   ],
   "source": [
    "#Analizamos el cierre de varias empresas del sector Salud en los ultimos 23 años\n",
    "# Crear una lista con los símbolos de las empresas\n",
    "symbols = ['UHN', 'LLY', 'JNJ', 'ABBV','NVO','MRK']\n",
    "# Obtener los datos de las empresas\n",
    "companies = yf.download(symbols, start='2000-01-01', end='2023-02-28', interval='1d')\n",
    "# Seleccionar la columna 'Close' de cada empresa\n",
    "close_prices_HEALTH = companies['Close']\n",
    "# Imprimir los precios de cierre\n",
    "print(close_prices_HEALTH)"
   ]
  },
  {
   "cell_type": "code",
   "execution_count": 13,
   "metadata": {},
   "outputs": [],
   "source": [
    "close_prices_HEALTH.to_csv('health.csv')"
   ]
  },
  {
   "cell_type": "code",
   "execution_count": 4,
   "metadata": {},
   "outputs": [],
   "source": [
    "close_prices_HEALTH = pd.read_csv('health.csv',index_col=0, parse_dates=True)"
   ]
  },
  {
   "cell_type": "code",
   "execution_count": 15,
   "metadata": {},
   "outputs": [
    {
     "data": {
      "text/html": [
       "<div>\n",
       "<style scoped>\n",
       "    .dataframe tbody tr th:only-of-type {\n",
       "        vertical-align: middle;\n",
       "    }\n",
       "\n",
       "    .dataframe tbody tr th {\n",
       "        vertical-align: top;\n",
       "    }\n",
       "\n",
       "    .dataframe thead th {\n",
       "        text-align: right;\n",
       "    }\n",
       "</style>\n",
       "<table border=\"1\" class=\"dataframe\">\n",
       "  <thead>\n",
       "    <tr style=\"text-align: right;\">\n",
       "      <th></th>\n",
       "      <th>Date</th>\n",
       "      <th>ABBV</th>\n",
       "      <th>JNJ</th>\n",
       "      <th>LLY</th>\n",
       "      <th>MRK</th>\n",
       "      <th>NVO</th>\n",
       "      <th>UHN</th>\n",
       "    </tr>\n",
       "  </thead>\n",
       "  <tbody>\n",
       "    <tr>\n",
       "      <th>0</th>\n",
       "      <td>2000-01-03</td>\n",
       "      <td>NaN</td>\n",
       "      <td>46.09375</td>\n",
       "      <td>65.5625</td>\n",
       "      <td>64.527672</td>\n",
       "      <td>2.6900</td>\n",
       "      <td>NaN</td>\n",
       "    </tr>\n",
       "    <tr>\n",
       "      <th>1</th>\n",
       "      <td>2000-01-04</td>\n",
       "      <td>NaN</td>\n",
       "      <td>44.40625</td>\n",
       "      <td>63.5000</td>\n",
       "      <td>62.261452</td>\n",
       "      <td>2.6775</td>\n",
       "      <td>NaN</td>\n",
       "    </tr>\n",
       "    <tr>\n",
       "      <th>2</th>\n",
       "      <td>2000-01-05</td>\n",
       "      <td>NaN</td>\n",
       "      <td>44.87500</td>\n",
       "      <td>64.3125</td>\n",
       "      <td>64.706581</td>\n",
       "      <td>2.6275</td>\n",
       "      <td>NaN</td>\n",
       "    </tr>\n",
       "    <tr>\n",
       "      <th>3</th>\n",
       "      <td>2000-01-06</td>\n",
       "      <td>NaN</td>\n",
       "      <td>46.28125</td>\n",
       "      <td>66.1875</td>\n",
       "      <td>65.243324</td>\n",
       "      <td>2.6700</td>\n",
       "      <td>NaN</td>\n",
       "    </tr>\n",
       "    <tr>\n",
       "      <th>4</th>\n",
       "      <td>2000-01-07</td>\n",
       "      <td>NaN</td>\n",
       "      <td>48.25000</td>\n",
       "      <td>71.0625</td>\n",
       "      <td>71.505249</td>\n",
       "      <td>2.7400</td>\n",
       "      <td>NaN</td>\n",
       "    </tr>\n",
       "  </tbody>\n",
       "</table>\n",
       "</div>"
      ],
      "text/plain": [
       "         Date  ABBV       JNJ      LLY        MRK     NVO  UHN\n",
       "0  2000-01-03   NaN  46.09375  65.5625  64.527672  2.6900  NaN\n",
       "1  2000-01-04   NaN  44.40625  63.5000  62.261452  2.6775  NaN\n",
       "2  2000-01-05   NaN  44.87500  64.3125  64.706581  2.6275  NaN\n",
       "3  2000-01-06   NaN  46.28125  66.1875  65.243324  2.6700  NaN\n",
       "4  2000-01-07   NaN  48.25000  71.0625  71.505249  2.7400  NaN"
      ]
     },
     "execution_count": 15,
     "metadata": {},
     "output_type": "execute_result"
    }
   ],
   "source": [
    "close_prices_HEALTH.head()"
   ]
  },
  {
   "cell_type": "code",
   "execution_count": 34,
   "metadata": {},
   "outputs": [
    {
     "data": {
      "text/plain": [
       "Date       0\n",
       "ABBV    3269\n",
       "JNJ        0\n",
       "LLY        0\n",
       "MRK        0\n",
       "NVO        0\n",
       "UHN     3200\n",
       "dtype: int64"
      ]
     },
     "execution_count": 34,
     "metadata": {},
     "output_type": "execute_result"
    }
   ],
   "source": [
    "close_prices_HEALTH.isnull().sum()"
   ]
  },
  {
   "cell_type": "code",
   "execution_count": 5,
   "metadata": {},
   "outputs": [
    {
     "data": {
      "text/plain": [
       "Text(0.5, 1.0, 'Comparación de las empresas de la salud del S&P500 más grandes')"
      ]
     },
     "execution_count": 5,
     "metadata": {},
     "output_type": "execute_result"
    },
    {
     "data": {
      "image/png": "[encoded data removed]",
      "text/plain": [
       "<Figure size 800x300 with 1 Axes>"
      ]
     },
     "metadata": {},
     "output_type": "display_data"
    }
   ],
   "source": [
    "fig = plt.figure(figsize=(8,3))\n",
    "sns.lineplot(x='Date', y='JNJ', data=close_prices_HEALTH)\n",
    "sns.lineplot(x='Date', y='LLY', data=close_prices_HEALTH)\n",
    "sns.lineplot(x='Date', y='MRK', data=close_prices_HEALTH)\n",
    "sns.lineplot(x='Date', y='NVO', data=close_prices_HEALTH)\n",
    "sns.set_style(\"darkgrid\")\n",
    "plt.title('Comparación de las empresas de la salud del S&P500 más grandes')"
   ]
  },
  {
   "cell_type": "code",
   "execution_count": 19,
   "metadata": {},
   "outputs": [
    {
     "data": {
      "text/html": [
       "<div>\n",
       "<style scoped>\n",
       "    .dataframe tbody tr th:only-of-type {\n",
       "        vertical-align: middle;\n",
       "    }\n",
       "\n",
       "    .dataframe tbody tr th {\n",
       "        vertical-align: top;\n",
       "    }\n",
       "\n",
       "    .dataframe thead th {\n",
       "        text-align: right;\n",
       "    }\n",
       "</style>\n",
       "<table border=\"1\" class=\"dataframe\">\n",
       "  <thead>\n",
       "    <tr style=\"text-align: right;\">\n",
       "      <th></th>\n",
       "      <th>ABBV</th>\n",
       "      <th>JNJ</th>\n",
       "      <th>LLY</th>\n",
       "      <th>MRK</th>\n",
       "      <th>NVO</th>\n",
       "      <th>UHN</th>\n",
       "    </tr>\n",
       "  </thead>\n",
       "  <tbody>\n",
       "    <tr>\n",
       "      <th>count</th>\n",
       "      <td>2556.000000</td>\n",
       "      <td>5825.000000</td>\n",
       "      <td>5825.000000</td>\n",
       "      <td>5825.000000</td>\n",
       "      <td>5825.000000</td>\n",
       "      <td>2625.000000</td>\n",
       "    </tr>\n",
       "    <tr>\n",
       "      <th>mean</th>\n",
       "      <td>83.520078</td>\n",
       "      <td>89.673173</td>\n",
       "      <td>86.755604</td>\n",
       "      <td>53.170477</td>\n",
       "      <td>32.056512</td>\n",
       "      <td>26.830910</td>\n",
       "    </tr>\n",
       "    <tr>\n",
       "      <th>std</th>\n",
       "      <td>31.570403</td>\n",
       "      <td>39.527031</td>\n",
       "      <td>66.916331</td>\n",
       "      <td>18.348810</td>\n",
       "      <td>30.199388</td>\n",
       "      <td>9.791369</td>\n",
       "    </tr>\n",
       "    <tr>\n",
       "      <th>min</th>\n",
       "      <td>33.709999</td>\n",
       "      <td>34.250000</td>\n",
       "      <td>27.469999</td>\n",
       "      <td>20.028625</td>\n",
       "      <td>2.231000</td>\n",
       "      <td>9.720000</td>\n",
       "    </tr>\n",
       "    <tr>\n",
       "      <th>25%</th>\n",
       "      <td>59.887500</td>\n",
       "      <td>59.759998</td>\n",
       "      <td>52.090000</td>\n",
       "      <td>36.965649</td>\n",
       "      <td>5.563000</td>\n",
       "      <td>19.010000</td>\n",
       "    </tr>\n",
       "    <tr>\n",
       "      <th>50%</th>\n",
       "      <td>76.494999</td>\n",
       "      <td>66.720001</td>\n",
       "      <td>65.000000</td>\n",
       "      <td>52.051525</td>\n",
       "      <td>23.628000</td>\n",
       "      <td>26.680000</td>\n",
       "    </tr>\n",
       "    <tr>\n",
       "      <th>75%</th>\n",
       "      <td>100.027502</td>\n",
       "      <td>123.900002</td>\n",
       "      <td>84.470001</td>\n",
       "      <td>65.183685</td>\n",
       "      <td>49.130001</td>\n",
       "      <td>33.070000</td>\n",
       "    </tr>\n",
       "    <tr>\n",
       "      <th>max</th>\n",
       "      <td>174.960007</td>\n",
       "      <td>186.009995</td>\n",
       "      <td>374.760010</td>\n",
       "      <td>114.839996</td>\n",
       "      <td>143.360001</td>\n",
       "      <td>66.080002</td>\n",
       "    </tr>\n",
       "  </tbody>\n",
       "</table>\n",
       "</div>"
      ],
      "text/plain": [
       "              ABBV          JNJ          LLY          MRK          NVO  \\\n",
       "count  2556.000000  5825.000000  5825.000000  5825.000000  5825.000000   \n",
       "mean     83.520078    89.673173    86.755604    53.170477    32.056512   \n",
       "std      31.570403    39.527031    66.916331    18.348810    30.199388   \n",
       "min      33.709999    34.250000    27.469999    20.028625     2.231000   \n",
       "25%      59.887500    59.759998    52.090000    36.965649     5.563000   \n",
       "50%      76.494999    66.720001    65.000000    52.051525    23.628000   \n",
       "75%     100.027502   123.900002    84.470001    65.183685    49.130001   \n",
       "max     174.960007   186.009995   374.760010   114.839996   143.360001   \n",
       "\n",
       "               UHN  \n",
       "count  2625.000000  \n",
       "mean     26.830910  \n",
       "std       9.791369  \n",
       "min       9.720000  \n",
       "25%      19.010000  \n",
       "50%      26.680000  \n",
       "75%      33.070000  \n",
       "max      66.080002  "
      ]
     },
     "execution_count": 19,
     "metadata": {},
     "output_type": "execute_result"
    }
   ],
   "source": [
    "close_prices_HEALTH.describe()"
   ]
  },
  {
   "attachments": {},
   "cell_type": "markdown",
   "metadata": {},
   "source": [
    "Obtenemos el valor del precio de las Acciones del Ultimo año de las empresas del sector Salud que mas cotizan en bolsas\n",
    "y por sus tamaños y crecimiento fueron escogidas."
   ]
  },
  {
   "cell_type": "code",
   "execution_count": 7,
   "metadata": {},
   "outputs": [
    {
     "name": "stdout",
     "output_type": "stream",
     "text": [
      "[*********************100%***********************]  6 of 6 completed\n",
      "\n",
      "1 Failed download:\n",
      "- UHN: No data found for this date range, symbol may be delisted\n",
      "                  ABBV         JNJ         LLY         MRK         NVO  UHN\n",
      "Date                                                                       \n",
      "2022-02-01  137.000000  170.880005  248.279999   81.919998  102.599998  NaN\n",
      "2022-02-02  138.619995  172.770004  250.830002   82.010002  106.589996  NaN\n",
      "2022-02-03  140.729996  172.759995  244.809998   79.010002  104.629997  NaN\n",
      "2022-02-04  140.649994  171.630005  242.270004   78.559998   99.669998  NaN\n",
      "2022-02-07  142.529999  171.059998  243.550003   77.580002  101.760002  NaN\n",
      "...                ...         ...         ...         ...         ...  ...\n",
      "2023-02-21  152.000000  158.000000  327.510010  109.070000  142.610001  NaN\n",
      "2023-02-22  150.669998  157.779999  329.070007  109.160004  142.250000  NaN\n",
      "2023-02-23  152.070007  157.729996  327.519989  110.589996  142.889999  NaN\n",
      "2023-02-24  152.710007  155.970001  321.640015  109.889999  141.600006  NaN\n",
      "2023-02-27  154.279999  155.630005  316.619995  109.360001  143.360001  NaN\n",
      "\n",
      "[269 rows x 6 columns]\n"
     ]
    }
   ],
   "source": [
    "#Analizamos el cierre de varias empresas del sector Salud en los ultimos 23 años\n",
    "# Crear una lista con los símbolos de las empresas\n",
    "symbols = ['UHN', 'LLY', 'JNJ', 'ABBV','NVO','MRK']\n",
    "# Obtener los datos de las empresas\n",
    "companies = yf.download(symbols, start='2022-02-01', end='2023-02-28', interval='1d')\n",
    "# Seleccionar la columna 'Close' de cada empresa\n",
    "last_prices_HEALTH = companies['Close']\n",
    "# Imprimir los precios de cierre\n",
    "print(last_prices_HEALTH)"
   ]
  },
  {
   "cell_type": "code",
   "execution_count": 10,
   "metadata": {},
   "outputs": [],
   "source": [
    "#Guardamos nuestro datasets\n",
    "last_prices_HEALTH.to_csv('last_health.csv')"
   ]
  },
  {
   "cell_type": "code",
   "execution_count": 11,
   "metadata": {},
   "outputs": [],
   "source": [
    "last_prices_HEALTH = pd.read_csv('last_health.csv')"
   ]
  },
  {
   "attachments": {},
   "cell_type": "markdown",
   "metadata": {},
   "source": [
    "Obtenemos el promedio, la desviacion standard y los percentiles  las acciones del sector salud del ultimo año."
   ]
  },
  {
   "cell_type": "code",
   "execution_count": 12,
   "metadata": {},
   "outputs": [
    {
     "data": {
      "text/html": [
       "<div>\n",
       "<style scoped>\n",
       "    .dataframe tbody tr th:only-of-type {\n",
       "        vertical-align: middle;\n",
       "    }\n",
       "\n",
       "    .dataframe tbody tr th {\n",
       "        vertical-align: top;\n",
       "    }\n",
       "\n",
       "    .dataframe thead th {\n",
       "        text-align: right;\n",
       "    }\n",
       "</style>\n",
       "<table border=\"1\" class=\"dataframe\">\n",
       "  <thead>\n",
       "    <tr style=\"text-align: right;\">\n",
       "      <th></th>\n",
       "      <th>ABBV</th>\n",
       "      <th>JNJ</th>\n",
       "      <th>LLY</th>\n",
       "      <th>MRK</th>\n",
       "      <th>NVO</th>\n",
       "      <th>UHN</th>\n",
       "    </tr>\n",
       "  </thead>\n",
       "  <tbody>\n",
       "    <tr>\n",
       "      <th>count</th>\n",
       "      <td>269.000000</td>\n",
       "      <td>269.000000</td>\n",
       "      <td>269.000000</td>\n",
       "      <td>269.000000</td>\n",
       "      <td>269.000000</td>\n",
       "      <td>0.0</td>\n",
       "    </tr>\n",
       "    <tr>\n",
       "      <th>mean</th>\n",
       "      <td>150.126543</td>\n",
       "      <td>171.940260</td>\n",
       "      <td>316.909332</td>\n",
       "      <td>93.192268</td>\n",
       "      <td>114.447658</td>\n",
       "      <td>NaN</td>\n",
       "    </tr>\n",
       "    <tr>\n",
       "      <th>std</th>\n",
       "      <td>8.249021</td>\n",
       "      <td>6.481462</td>\n",
       "      <td>34.463290</td>\n",
       "      <td>10.812175</td>\n",
       "      <td>12.751420</td>\n",
       "      <td>NaN</td>\n",
       "    </tr>\n",
       "    <tr>\n",
       "      <th>min</th>\n",
       "      <td>134.210007</td>\n",
       "      <td>155.630005</td>\n",
       "      <td>234.690002</td>\n",
       "      <td>73.510002</td>\n",
       "      <td>95.279999</td>\n",
       "      <td>NaN</td>\n",
       "    </tr>\n",
       "    <tr>\n",
       "      <th>25%</th>\n",
       "      <td>143.199997</td>\n",
       "      <td>166.190002</td>\n",
       "      <td>295.190002</td>\n",
       "      <td>86.279999</td>\n",
       "      <td>105.059998</td>\n",
       "      <td>NaN</td>\n",
       "    </tr>\n",
       "    <tr>\n",
       "      <th>50%</th>\n",
       "      <td>149.539993</td>\n",
       "      <td>172.759995</td>\n",
       "      <td>317.700012</td>\n",
       "      <td>90.529999</td>\n",
       "      <td>110.199997</td>\n",
       "      <td>NaN</td>\n",
       "    </tr>\n",
       "    <tr>\n",
       "      <th>75%</th>\n",
       "      <td>154.990005</td>\n",
       "      <td>177.229996</td>\n",
       "      <td>344.149994</td>\n",
       "      <td>102.309998</td>\n",
       "      <td>118.199997</td>\n",
       "      <td>NaN</td>\n",
       "    </tr>\n",
       "    <tr>\n",
       "      <th>max</th>\n",
       "      <td>174.960007</td>\n",
       "      <td>186.009995</td>\n",
       "      <td>374.760010</td>\n",
       "      <td>114.839996</td>\n",
       "      <td>143.360001</td>\n",
       "      <td>NaN</td>\n",
       "    </tr>\n",
       "  </tbody>\n",
       "</table>\n",
       "</div>"
      ],
      "text/plain": [
       "             ABBV         JNJ         LLY         MRK         NVO  UHN\n",
       "count  269.000000  269.000000  269.000000  269.000000  269.000000  0.0\n",
       "mean   150.126543  171.940260  316.909332   93.192268  114.447658  NaN\n",
       "std      8.249021    6.481462   34.463290   10.812175   12.751420  NaN\n",
       "min    134.210007  155.630005  234.690002   73.510002   95.279999  NaN\n",
       "25%    143.199997  166.190002  295.190002   86.279999  105.059998  NaN\n",
       "50%    149.539993  172.759995  317.700012   90.529999  110.199997  NaN\n",
       "75%    154.990005  177.229996  344.149994  102.309998  118.199997  NaN\n",
       "max    174.960007  186.009995  374.760010  114.839996  143.360001  NaN"
      ]
     },
     "execution_count": 12,
     "metadata": {},
     "output_type": "execute_result"
    }
   ],
   "source": [
    "last_prices_HEALTH.describe()"
   ]
  },
  {
   "cell_type": "code",
   "execution_count": null,
   "metadata": {},
   "outputs": [],
   "source": []
  },
  {
   "cell_type": "code",
   "execution_count": 19,
   "metadata": {},
   "outputs": [
    {
     "name": "stdout",
     "output_type": "stream",
     "text": [
      "[*********************100%***********************]  1 of 1 completed\n"
     ]
    }
   ],
   "source": [
    "# Definimos la fecha de inicio de los ultimo 23 años\n",
    "start_date = datetime.now() - timedelta(days=23*365)\n",
    "# Descargar los datos históricos de Microsoft\n",
    "msft_df = yf.download(\"MSFT\", start=start_date)\n"
   ]
  },
  {
   "cell_type": "code",
   "execution_count": 17,
   "metadata": {},
   "outputs": [
    {
     "name": "stdout",
     "output_type": "stream",
     "text": [
      "<class 'pandas.core.frame.DataFrame'>\n",
      "DatetimeIndex: 5782 entries, 2000-03-03 to 2023-02-24\n",
      "Data columns (total 6 columns):\n",
      " #   Column     Non-Null Count  Dtype  \n",
      "---  ------     --------------  -----  \n",
      " 0   Open       5782 non-null   float64\n",
      " 1   High       5782 non-null   float64\n",
      " 2   Low        5782 non-null   float64\n",
      " 3   Close      5782 non-null   float64\n",
      " 4   Adj Close  5782 non-null   float64\n",
      " 5   Volume     5782 non-null   int64  \n",
      "dtypes: float64(5), int64(1)\n",
      "memory usage: 316.2 KB\n"
     ]
    }
   ],
   "source": [
    "msft_df.info()"
   ]
  },
  {
   "cell_type": "code",
   "execution_count": 20,
   "metadata": {},
   "outputs": [],
   "source": [
    "msft_df.to_csv('./msft.csv')"
   ]
  },
  {
   "cell_type": "code",
   "execution_count": 7,
   "metadata": {},
   "outputs": [],
   "source": [
    "msft_df=pd.read_csv('./msft.csv',index_col=0, parse_dates=True)"
   ]
  },
  {
   "cell_type": "code",
   "execution_count": 23,
   "metadata": {},
   "outputs": [
    {
     "data": {
      "text/html": [
       "<div>\n",
       "<style scoped>\n",
       "    .dataframe tbody tr th:only-of-type {\n",
       "        vertical-align: middle;\n",
       "    }\n",
       "\n",
       "    .dataframe tbody tr th {\n",
       "        vertical-align: top;\n",
       "    }\n",
       "\n",
       "    .dataframe thead th {\n",
       "        text-align: right;\n",
       "    }\n",
       "</style>\n",
       "<table border=\"1\" class=\"dataframe\">\n",
       "  <thead>\n",
       "    <tr style=\"text-align: right;\">\n",
       "      <th></th>\n",
       "      <th>Open</th>\n",
       "      <th>High</th>\n",
       "      <th>Low</th>\n",
       "      <th>Close</th>\n",
       "      <th>Adj Close</th>\n",
       "      <th>Volume</th>\n",
       "    </tr>\n",
       "    <tr>\n",
       "      <th>Date</th>\n",
       "      <th></th>\n",
       "      <th></th>\n",
       "      <th></th>\n",
       "      <th></th>\n",
       "      <th></th>\n",
       "      <th></th>\n",
       "    </tr>\n",
       "  </thead>\n",
       "  <tbody>\n",
       "    <tr>\n",
       "      <th>2000-03-03</th>\n",
       "      <td>47.37500</td>\n",
       "      <td>49.43750</td>\n",
       "      <td>46.93750</td>\n",
       "      <td>48.06250</td>\n",
       "      <td>29.986105</td>\n",
       "      <td>101435200</td>\n",
       "    </tr>\n",
       "    <tr>\n",
       "      <th>2000-03-06</th>\n",
       "      <td>48.00000</td>\n",
       "      <td>48.68750</td>\n",
       "      <td>45.06250</td>\n",
       "      <td>45.31250</td>\n",
       "      <td>28.270393</td>\n",
       "      <td>93609400</td>\n",
       "    </tr>\n",
       "    <tr>\n",
       "      <th>2000-03-07</th>\n",
       "      <td>48.06250</td>\n",
       "      <td>48.75000</td>\n",
       "      <td>45.96875</td>\n",
       "      <td>46.43750</td>\n",
       "      <td>28.972273</td>\n",
       "      <td>135061000</td>\n",
       "    </tr>\n",
       "    <tr>\n",
       "      <th>2000-03-08</th>\n",
       "      <td>46.90625</td>\n",
       "      <td>48.09375</td>\n",
       "      <td>45.50000</td>\n",
       "      <td>47.78125</td>\n",
       "      <td>29.810644</td>\n",
       "      <td>94290000</td>\n",
       "    </tr>\n",
       "    <tr>\n",
       "      <th>2000-03-09</th>\n",
       "      <td>47.65625</td>\n",
       "      <td>50.00000</td>\n",
       "      <td>47.50000</td>\n",
       "      <td>50.00000</td>\n",
       "      <td>31.194925</td>\n",
       "      <td>88198800</td>\n",
       "    </tr>\n",
       "  </tbody>\n",
       "</table>\n",
       "</div>"
      ],
      "text/plain": [
       "                Open      High       Low     Close  Adj Close     Volume\n",
       "Date                                                                    \n",
       "2000-03-03  47.37500  49.43750  46.93750  48.06250  29.986105  101435200\n",
       "2000-03-06  48.00000  48.68750  45.06250  45.31250  28.270393   93609400\n",
       "2000-03-07  48.06250  48.75000  45.96875  46.43750  28.972273  135061000\n",
       "2000-03-08  46.90625  48.09375  45.50000  47.78125  29.810644   94290000\n",
       "2000-03-09  47.65625  50.00000  47.50000  50.00000  31.194925   88198800"
      ]
     },
     "execution_count": 23,
     "metadata": {},
     "output_type": "execute_result"
    }
   ],
   "source": [
    "msft_df.head()"
   ]
  },
  {
   "cell_type": "code",
   "execution_count": 24,
   "metadata": {},
   "outputs": [
    {
     "data": {
      "text/html": [
       "<div>\n",
       "<style scoped>\n",
       "    .dataframe tbody tr th:only-of-type {\n",
       "        vertical-align: middle;\n",
       "    }\n",
       "\n",
       "    .dataframe tbody tr th {\n",
       "        vertical-align: top;\n",
       "    }\n",
       "\n",
       "    .dataframe thead th {\n",
       "        text-align: right;\n",
       "    }\n",
       "</style>\n",
       "<table border=\"1\" class=\"dataframe\">\n",
       "  <thead>\n",
       "    <tr style=\"text-align: right;\">\n",
       "      <th></th>\n",
       "      <th>Open</th>\n",
       "      <th>High</th>\n",
       "      <th>Low</th>\n",
       "      <th>Close</th>\n",
       "      <th>Adj Close</th>\n",
       "      <th>Volume</th>\n",
       "    </tr>\n",
       "  </thead>\n",
       "  <tbody>\n",
       "    <tr>\n",
       "      <th>count</th>\n",
       "      <td>5782.000000</td>\n",
       "      <td>5782.000000</td>\n",
       "      <td>5782.000000</td>\n",
       "      <td>5782.000000</td>\n",
       "      <td>5782.000000</td>\n",
       "      <td>5.782000e+03</td>\n",
       "    </tr>\n",
       "    <tr>\n",
       "      <th>mean</th>\n",
       "      <td>70.123797</td>\n",
       "      <td>70.861023</td>\n",
       "      <td>69.368839</td>\n",
       "      <td>70.138221</td>\n",
       "      <td>63.443290</td>\n",
       "      <td>5.201020e+07</td>\n",
       "    </tr>\n",
       "    <tr>\n",
       "      <th>std</th>\n",
       "      <td>76.764175</td>\n",
       "      <td>77.565120</td>\n",
       "      <td>75.904360</td>\n",
       "      <td>76.778977</td>\n",
       "      <td>78.282017</td>\n",
       "      <td>3.091931e+07</td>\n",
       "    </tr>\n",
       "    <tr>\n",
       "      <th>min</th>\n",
       "      <td>15.200000</td>\n",
       "      <td>15.620000</td>\n",
       "      <td>14.870000</td>\n",
       "      <td>15.150000</td>\n",
       "      <td>11.376363</td>\n",
       "      <td>7.425600e+06</td>\n",
       "    </tr>\n",
       "    <tr>\n",
       "      <th>25%</th>\n",
       "      <td>26.940001</td>\n",
       "      <td>27.200001</td>\n",
       "      <td>26.700001</td>\n",
       "      <td>26.950001</td>\n",
       "      <td>19.036591</td>\n",
       "      <td>2.956612e+07</td>\n",
       "    </tr>\n",
       "    <tr>\n",
       "      <th>50%</th>\n",
       "      <td>31.474999</td>\n",
       "      <td>31.925000</td>\n",
       "      <td>31.097500</td>\n",
       "      <td>31.515000</td>\n",
       "      <td>23.000134</td>\n",
       "      <td>4.688930e+07</td>\n",
       "    </tr>\n",
       "    <tr>\n",
       "      <th>75%</th>\n",
       "      <td>69.019999</td>\n",
       "      <td>69.557499</td>\n",
       "      <td>68.670000</td>\n",
       "      <td>69.277502</td>\n",
       "      <td>64.144091</td>\n",
       "      <td>6.561985e+07</td>\n",
       "    </tr>\n",
       "    <tr>\n",
       "      <th>max</th>\n",
       "      <td>344.619995</td>\n",
       "      <td>349.670013</td>\n",
       "      <td>342.200012</td>\n",
       "      <td>343.109985</td>\n",
       "      <td>339.075531</td>\n",
       "      <td>5.910522e+08</td>\n",
       "    </tr>\n",
       "  </tbody>\n",
       "</table>\n",
       "</div>"
      ],
      "text/plain": [
       "              Open         High          Low        Close    Adj Close  \\\n",
       "count  5782.000000  5782.000000  5782.000000  5782.000000  5782.000000   \n",
       "mean     70.123797    70.861023    69.368839    70.138221    63.443290   \n",
       "std      76.764175    77.565120    75.904360    76.778977    78.282017   \n",
       "min      15.200000    15.620000    14.870000    15.150000    11.376363   \n",
       "25%      26.940001    27.200001    26.700001    26.950001    19.036591   \n",
       "50%      31.474999    31.925000    31.097500    31.515000    23.000134   \n",
       "75%      69.019999    69.557499    68.670000    69.277502    64.144091   \n",
       "max     344.619995   349.670013   342.200012   343.109985   339.075531   \n",
       "\n",
       "             Volume  \n",
       "count  5.782000e+03  \n",
       "mean   5.201020e+07  \n",
       "std    3.091931e+07  \n",
       "min    7.425600e+06  \n",
       "25%    2.956612e+07  \n",
       "50%    4.688930e+07  \n",
       "75%    6.561985e+07  \n",
       "max    5.910522e+08  "
      ]
     },
     "execution_count": 24,
     "metadata": {},
     "output_type": "execute_result"
    }
   ],
   "source": [
    "msft_df.describe()"
   ]
  },
  {
   "cell_type": "code",
   "execution_count": 25,
   "metadata": {},
   "outputs": [
    {
     "data": {
      "text/html": [
       "<div>\n",
       "<style scoped>\n",
       "    .dataframe tbody tr th:only-of-type {\n",
       "        vertical-align: middle;\n",
       "    }\n",
       "\n",
       "    .dataframe tbody tr th {\n",
       "        vertical-align: top;\n",
       "    }\n",
       "\n",
       "    .dataframe thead th {\n",
       "        text-align: right;\n",
       "    }\n",
       "</style>\n",
       "<table border=\"1\" class=\"dataframe\">\n",
       "  <thead>\n",
       "    <tr style=\"text-align: right;\">\n",
       "      <th></th>\n",
       "      <th>Open</th>\n",
       "      <th>High</th>\n",
       "      <th>Low</th>\n",
       "      <th>Close</th>\n",
       "      <th>Adj Close</th>\n",
       "      <th>Volume</th>\n",
       "    </tr>\n",
       "    <tr>\n",
       "      <th>Date</th>\n",
       "      <th></th>\n",
       "      <th></th>\n",
       "      <th></th>\n",
       "      <th></th>\n",
       "      <th></th>\n",
       "      <th></th>\n",
       "    </tr>\n",
       "  </thead>\n",
       "  <tbody>\n",
       "    <tr>\n",
       "      <th>2009-03-09</th>\n",
       "      <td>15.2</td>\n",
       "      <td>15.74</td>\n",
       "      <td>15.1</td>\n",
       "      <td>15.15</td>\n",
       "      <td>11.376363</td>\n",
       "      <td>66479100</td>\n",
       "    </tr>\n",
       "  </tbody>\n",
       "</table>\n",
       "</div>"
      ],
      "text/plain": [
       "            Open   High   Low  Close  Adj Close    Volume\n",
       "Date                                                     \n",
       "2009-03-09  15.2  15.74  15.1  15.15  11.376363  66479100"
      ]
     },
     "execution_count": 25,
     "metadata": {},
     "output_type": "execute_result"
    }
   ],
   "source": [
    "msft_df.loc[msft_df.Close == msft_df.Close.min()]"
   ]
  },
  {
   "cell_type": "code",
   "execution_count": 26,
   "metadata": {},
   "outputs": [
    {
     "data": {
      "text/html": [
       "<div>\n",
       "<style scoped>\n",
       "    .dataframe tbody tr th:only-of-type {\n",
       "        vertical-align: middle;\n",
       "    }\n",
       "\n",
       "    .dataframe tbody tr th {\n",
       "        vertical-align: top;\n",
       "    }\n",
       "\n",
       "    .dataframe thead th {\n",
       "        text-align: right;\n",
       "    }\n",
       "</style>\n",
       "<table border=\"1\" class=\"dataframe\">\n",
       "  <thead>\n",
       "    <tr style=\"text-align: right;\">\n",
       "      <th></th>\n",
       "      <th>Open</th>\n",
       "      <th>High</th>\n",
       "      <th>Low</th>\n",
       "      <th>Close</th>\n",
       "      <th>Adj Close</th>\n",
       "      <th>Volume</th>\n",
       "    </tr>\n",
       "    <tr>\n",
       "      <th>Date</th>\n",
       "      <th></th>\n",
       "      <th></th>\n",
       "      <th></th>\n",
       "      <th></th>\n",
       "      <th></th>\n",
       "      <th></th>\n",
       "    </tr>\n",
       "  </thead>\n",
       "  <tbody>\n",
       "    <tr>\n",
       "      <th>2021-11-19</th>\n",
       "      <td>342.640015</td>\n",
       "      <td>345.100006</td>\n",
       "      <td>342.200012</td>\n",
       "      <td>343.109985</td>\n",
       "      <td>339.075531</td>\n",
       "      <td>21963400</td>\n",
       "    </tr>\n",
       "  </tbody>\n",
       "</table>\n",
       "</div>"
      ],
      "text/plain": [
       "                  Open        High         Low       Close   Adj Close  \\\n",
       "Date                                                                     \n",
       "2021-11-19  342.640015  345.100006  342.200012  343.109985  339.075531   \n",
       "\n",
       "              Volume  \n",
       "Date                  \n",
       "2021-11-19  21963400  "
      ]
     },
     "execution_count": 26,
     "metadata": {},
     "output_type": "execute_result"
    }
   ],
   "source": [
    "msft_df.loc[msft_df.Close == msft_df.Close.max()]"
   ]
  },
  {
   "cell_type": "code",
   "execution_count": 8,
   "metadata": {},
   "outputs": [
    {
     "data": {
      "text/plain": [
       "<Axes: xlabel='Date', ylabel='Close'>"
      ]
     },
     "execution_count": 8,
     "metadata": {},
     "output_type": "execute_result"
    },
    {
     "data": {
      "image/png": "[encoded data removed]",
      "text/plain": [
       "<Figure size 640x480 with 1 Axes>"
      ]
     },
     "metadata": {},
     "output_type": "display_data"
    }
   ],
   "source": [
    "sns.lineplot(x=\"Date\", y='Close', data=msft_df)"
   ]
  },
  {
   "cell_type": "code",
   "execution_count": 20,
   "metadata": {},
   "outputs": [
    {
     "data": {
      "text/plain": [
       "<Axes: xlabel='Date'>"
      ]
     },
     "execution_count": 20,
     "metadata": {},
     "output_type": "execute_result"
    },
    {
     "data": {
      "image/png": "[encoded data removed]",
      "text/plain": [
       "<Figure size 640x480 with 1 Axes>"
      ]
     },
     "metadata": {},
     "output_type": "display_data"
    }
   ],
   "source": [
    "msft_df['Close'].plot()"
   ]
  },
  {
   "cell_type": "code",
   "execution_count": 3,
   "metadata": {},
   "outputs": [
    {
     "name": "stdout",
     "output_type": "stream",
     "text": [
      "[*********************100%***********************]  1 of 1 completed\n"
     ]
    }
   ],
   "source": [
    "# Definimos la fecha de inicio de los ultimo 23 años\n",
    "start_date = datetime.now() - timedelta(days=23*365)\n",
    "# Descargar los datos históricos de TESLA\n",
    "tlsa_df = yf.download(\"TSLA\", start=start_date)"
   ]
  },
  {
   "cell_type": "code",
   "execution_count": 4,
   "metadata": {},
   "outputs": [],
   "source": [
    "#Guardamos nuestro dataframe de Tesla\n",
    "tlsa_df.to_csv('./tlsa.csv')"
   ]
  },
  {
   "cell_type": "code",
   "execution_count": 5,
   "metadata": {},
   "outputs": [],
   "source": [
    "#Cargamos Nuestro dataframe de Tesla\n",
    "tlsa_df = pd.read_csv('./tlsa.csv',index_col=0,parse_dates=True)"
   ]
  },
  {
   "cell_type": "code",
   "execution_count": 6,
   "metadata": {},
   "outputs": [
    {
     "data": {
      "text/html": [
       "<div>\n",
       "<style scoped>\n",
       "    .dataframe tbody tr th:only-of-type {\n",
       "        vertical-align: middle;\n",
       "    }\n",
       "\n",
       "    .dataframe tbody tr th {\n",
       "        vertical-align: top;\n",
       "    }\n",
       "\n",
       "    .dataframe thead th {\n",
       "        text-align: right;\n",
       "    }\n",
       "</style>\n",
       "<table border=\"1\" class=\"dataframe\">\n",
       "  <thead>\n",
       "    <tr style=\"text-align: right;\">\n",
       "      <th></th>\n",
       "      <th>Open</th>\n",
       "      <th>High</th>\n",
       "      <th>Low</th>\n",
       "      <th>Close</th>\n",
       "      <th>Adj Close</th>\n",
       "      <th>Volume</th>\n",
       "    </tr>\n",
       "    <tr>\n",
       "      <th>Date</th>\n",
       "      <th></th>\n",
       "      <th></th>\n",
       "      <th></th>\n",
       "      <th></th>\n",
       "      <th></th>\n",
       "      <th></th>\n",
       "    </tr>\n",
       "  </thead>\n",
       "  <tbody>\n",
       "    <tr>\n",
       "      <th>2010-06-29</th>\n",
       "      <td>1.266667</td>\n",
       "      <td>1.666667</td>\n",
       "      <td>1.169333</td>\n",
       "      <td>1.592667</td>\n",
       "      <td>1.592667</td>\n",
       "      <td>281494500</td>\n",
       "    </tr>\n",
       "    <tr>\n",
       "      <th>2010-06-30</th>\n",
       "      <td>1.719333</td>\n",
       "      <td>2.028000</td>\n",
       "      <td>1.553333</td>\n",
       "      <td>1.588667</td>\n",
       "      <td>1.588667</td>\n",
       "      <td>257806500</td>\n",
       "    </tr>\n",
       "    <tr>\n",
       "      <th>2010-07-01</th>\n",
       "      <td>1.666667</td>\n",
       "      <td>1.728000</td>\n",
       "      <td>1.351333</td>\n",
       "      <td>1.464000</td>\n",
       "      <td>1.464000</td>\n",
       "      <td>123282000</td>\n",
       "    </tr>\n",
       "    <tr>\n",
       "      <th>2010-07-02</th>\n",
       "      <td>1.533333</td>\n",
       "      <td>1.540000</td>\n",
       "      <td>1.247333</td>\n",
       "      <td>1.280000</td>\n",
       "      <td>1.280000</td>\n",
       "      <td>77097000</td>\n",
       "    </tr>\n",
       "    <tr>\n",
       "      <th>2010-07-06</th>\n",
       "      <td>1.333333</td>\n",
       "      <td>1.333333</td>\n",
       "      <td>1.055333</td>\n",
       "      <td>1.074000</td>\n",
       "      <td>1.074000</td>\n",
       "      <td>103003500</td>\n",
       "    </tr>\n",
       "  </tbody>\n",
       "</table>\n",
       "</div>"
      ],
      "text/plain": [
       "                Open      High       Low     Close  Adj Close     Volume\n",
       "Date                                                                    \n",
       "2010-06-29  1.266667  1.666667  1.169333  1.592667   1.592667  281494500\n",
       "2010-06-30  1.719333  2.028000  1.553333  1.588667   1.588667  257806500\n",
       "2010-07-01  1.666667  1.728000  1.351333  1.464000   1.464000  123282000\n",
       "2010-07-02  1.533333  1.540000  1.247333  1.280000   1.280000   77097000\n",
       "2010-07-06  1.333333  1.333333  1.055333  1.074000   1.074000  103003500"
      ]
     },
     "execution_count": 6,
     "metadata": {},
     "output_type": "execute_result"
    }
   ],
   "source": [
    "tlsa_df.head()"
   ]
  },
  {
   "cell_type": "code",
   "execution_count": 15,
   "metadata": {},
   "outputs": [
    {
     "data": {
      "text/html": [
       "<div>\n",
       "<style scoped>\n",
       "    .dataframe tbody tr th:only-of-type {\n",
       "        vertical-align: middle;\n",
       "    }\n",
       "\n",
       "    .dataframe tbody tr th {\n",
       "        vertical-align: top;\n",
       "    }\n",
       "\n",
       "    .dataframe thead th {\n",
       "        text-align: right;\n",
       "    }\n",
       "</style>\n",
       "<table border=\"1\" class=\"dataframe\">\n",
       "  <thead>\n",
       "    <tr style=\"text-align: right;\">\n",
       "      <th></th>\n",
       "      <th>Open</th>\n",
       "      <th>High</th>\n",
       "      <th>Low</th>\n",
       "      <th>Close</th>\n",
       "      <th>Adj Close</th>\n",
       "      <th>Volume</th>\n",
       "    </tr>\n",
       "  </thead>\n",
       "  <tbody>\n",
       "    <tr>\n",
       "      <th>count</th>\n",
       "      <td>3187.000000</td>\n",
       "      <td>3187.000000</td>\n",
       "      <td>3187.000000</td>\n",
       "      <td>3187.000000</td>\n",
       "      <td>3187.000000</td>\n",
       "      <td>3.187000e+03</td>\n",
       "    </tr>\n",
       "    <tr>\n",
       "      <th>mean</th>\n",
       "      <td>60.059588</td>\n",
       "      <td>61.424941</td>\n",
       "      <td>58.568007</td>\n",
       "      <td>60.028215</td>\n",
       "      <td>60.028215</td>\n",
       "      <td>9.477046e+07</td>\n",
       "    </tr>\n",
       "    <tr>\n",
       "      <th>std</th>\n",
       "      <td>95.821968</td>\n",
       "      <td>98.045078</td>\n",
       "      <td>93.332208</td>\n",
       "      <td>95.714792</td>\n",
       "      <td>95.714792</td>\n",
       "      <td>8.201267e+07</td>\n",
       "    </tr>\n",
       "    <tr>\n",
       "      <th>min</th>\n",
       "      <td>1.076000</td>\n",
       "      <td>1.108667</td>\n",
       "      <td>0.998667</td>\n",
       "      <td>1.053333</td>\n",
       "      <td>1.053333</td>\n",
       "      <td>1.777500e+06</td>\n",
       "    </tr>\n",
       "    <tr>\n",
       "      <th>25%</th>\n",
       "      <td>9.323666</td>\n",
       "      <td>9.518000</td>\n",
       "      <td>9.039333</td>\n",
       "      <td>9.255000</td>\n",
       "      <td>9.255000</td>\n",
       "      <td>4.266825e+07</td>\n",
       "    </tr>\n",
       "    <tr>\n",
       "      <th>50%</th>\n",
       "      <td>16.364000</td>\n",
       "      <td>16.573334</td>\n",
       "      <td>16.105333</td>\n",
       "      <td>16.350668</td>\n",
       "      <td>16.350668</td>\n",
       "      <td>7.647750e+07</td>\n",
       "    </tr>\n",
       "    <tr>\n",
       "      <th>75%</th>\n",
       "      <td>27.176333</td>\n",
       "      <td>28.110001</td>\n",
       "      <td>26.556333</td>\n",
       "      <td>27.767667</td>\n",
       "      <td>27.767667</td>\n",
       "      <td>1.192372e+08</td>\n",
       "    </tr>\n",
       "    <tr>\n",
       "      <th>max</th>\n",
       "      <td>411.470001</td>\n",
       "      <td>414.496674</td>\n",
       "      <td>405.666656</td>\n",
       "      <td>409.970001</td>\n",
       "      <td>409.970001</td>\n",
       "      <td>9.140820e+08</td>\n",
       "    </tr>\n",
       "  </tbody>\n",
       "</table>\n",
       "</div>"
      ],
      "text/plain": [
       "              Open         High          Low        Close    Adj Close  \\\n",
       "count  3187.000000  3187.000000  3187.000000  3187.000000  3187.000000   \n",
       "mean     60.059588    61.424941    58.568007    60.028215    60.028215   \n",
       "std      95.821968    98.045078    93.332208    95.714792    95.714792   \n",
       "min       1.076000     1.108667     0.998667     1.053333     1.053333   \n",
       "25%       9.323666     9.518000     9.039333     9.255000     9.255000   \n",
       "50%      16.364000    16.573334    16.105333    16.350668    16.350668   \n",
       "75%      27.176333    28.110001    26.556333    27.767667    27.767667   \n",
       "max     411.470001   414.496674   405.666656   409.970001   409.970001   \n",
       "\n",
       "             Volume  \n",
       "count  3.187000e+03  \n",
       "mean   9.477046e+07  \n",
       "std    8.201267e+07  \n",
       "min    1.777500e+06  \n",
       "25%    4.266825e+07  \n",
       "50%    7.647750e+07  \n",
       "75%    1.192372e+08  \n",
       "max    9.140820e+08  "
      ]
     },
     "execution_count": 15,
     "metadata": {},
     "output_type": "execute_result"
    }
   ],
   "source": [
    "tlsa_df.describe()"
   ]
  },
  {
   "cell_type": "code",
   "execution_count": 7,
   "metadata": {},
   "outputs": [
    {
     "data": {
      "text/plain": [
       "<Axes: xlabel='Date'>"
      ]
     },
     "execution_count": 7,
     "metadata": {},
     "output_type": "execute_result"
    },
    {
     "data": {
      "image/png": "[encoded data removed]",
      "text/plain": [
       "<Figure size 640x480 with 1 Axes>"
      ]
     },
     "metadata": {},
     "output_type": "display_data"
    }
   ],
   "source": [
    "tlsa_df['Close'].plot()"
   ]
  },
  {
   "cell_type": "code",
   "execution_count": 16,
   "metadata": {},
   "outputs": [
    {
     "data": {
      "text/html": [
       "<div>\n",
       "<style scoped>\n",
       "    .dataframe tbody tr th:only-of-type {\n",
       "        vertical-align: middle;\n",
       "    }\n",
       "\n",
       "    .dataframe tbody tr th {\n",
       "        vertical-align: top;\n",
       "    }\n",
       "\n",
       "    .dataframe thead th {\n",
       "        text-align: right;\n",
       "    }\n",
       "</style>\n",
       "<table border=\"1\" class=\"dataframe\">\n",
       "  <thead>\n",
       "    <tr style=\"text-align: right;\">\n",
       "      <th></th>\n",
       "      <th>Open</th>\n",
       "      <th>High</th>\n",
       "      <th>Low</th>\n",
       "      <th>Close</th>\n",
       "      <th>Adj Close</th>\n",
       "      <th>Volume</th>\n",
       "    </tr>\n",
       "    <tr>\n",
       "      <th>Date</th>\n",
       "      <th></th>\n",
       "      <th></th>\n",
       "      <th></th>\n",
       "      <th></th>\n",
       "      <th></th>\n",
       "      <th></th>\n",
       "    </tr>\n",
       "  </thead>\n",
       "  <tbody>\n",
       "    <tr>\n",
       "      <th>2010-07-07</th>\n",
       "      <td>1.093333</td>\n",
       "      <td>1.108667</td>\n",
       "      <td>0.998667</td>\n",
       "      <td>1.053333</td>\n",
       "      <td>1.053333</td>\n",
       "      <td>103825500</td>\n",
       "    </tr>\n",
       "  </tbody>\n",
       "</table>\n",
       "</div>"
      ],
      "text/plain": [
       "                Open      High       Low     Close  Adj Close     Volume\n",
       "Date                                                                    \n",
       "2010-07-07  1.093333  1.108667  0.998667  1.053333   1.053333  103825500"
      ]
     },
     "execution_count": 16,
     "metadata": {},
     "output_type": "execute_result"
    }
   ],
   "source": [
    "tlsa_df.loc[tlsa_df.Close == tlsa_df.Close.min()]"
   ]
  },
  {
   "cell_type": "code",
   "execution_count": 29,
   "metadata": {},
   "outputs": [
    {
     "name": "stdout",
     "output_type": "stream",
     "text": [
      "[*********************100%***********************]  1 of 1 completed\n"
     ]
    }
   ],
   "source": [
    "# Definimos la fecha de inicio de los ultimo 23 años\n",
    "start_date = datetime.now() - timedelta(days=23*365)\n",
    "# Descargar los datos históricos de GOOGLE\n",
    "goog_df = yf.download(\"GOOG\", start=start_date)"
   ]
  },
  {
   "cell_type": "code",
   "execution_count": 30,
   "metadata": {},
   "outputs": [],
   "source": [
    "#Guardamos nuestro dataframe de Google\n",
    "goog_df.to_csv('./goog.csv')"
   ]
  },
  {
   "cell_type": "code",
   "execution_count": 31,
   "metadata": {},
   "outputs": [],
   "source": [
    "goog_df=pd.read_csv('./goog.csv',index_col=0,parse_dates=True)"
   ]
  },
  {
   "cell_type": "code",
   "execution_count": 32,
   "metadata": {},
   "outputs": [
    {
     "data": {
      "text/html": [
       "<div>\n",
       "<style scoped>\n",
       "    .dataframe tbody tr th:only-of-type {\n",
       "        vertical-align: middle;\n",
       "    }\n",
       "\n",
       "    .dataframe tbody tr th {\n",
       "        vertical-align: top;\n",
       "    }\n",
       "\n",
       "    .dataframe thead th {\n",
       "        text-align: right;\n",
       "    }\n",
       "</style>\n",
       "<table border=\"1\" class=\"dataframe\">\n",
       "  <thead>\n",
       "    <tr style=\"text-align: right;\">\n",
       "      <th></th>\n",
       "      <th>Open</th>\n",
       "      <th>High</th>\n",
       "      <th>Low</th>\n",
       "      <th>Close</th>\n",
       "      <th>Adj Close</th>\n",
       "      <th>Volume</th>\n",
       "    </tr>\n",
       "    <tr>\n",
       "      <th>Date</th>\n",
       "      <th></th>\n",
       "      <th></th>\n",
       "      <th></th>\n",
       "      <th></th>\n",
       "      <th></th>\n",
       "      <th></th>\n",
       "    </tr>\n",
       "  </thead>\n",
       "  <tbody>\n",
       "    <tr>\n",
       "      <th>2004-08-19</th>\n",
       "      <td>2.490664</td>\n",
       "      <td>2.591785</td>\n",
       "      <td>2.390042</td>\n",
       "      <td>2.499133</td>\n",
       "      <td>2.499133</td>\n",
       "      <td>897427216</td>\n",
       "    </tr>\n",
       "    <tr>\n",
       "      <th>2004-08-20</th>\n",
       "      <td>2.515820</td>\n",
       "      <td>2.716817</td>\n",
       "      <td>2.503118</td>\n",
       "      <td>2.697639</td>\n",
       "      <td>2.697639</td>\n",
       "      <td>458857488</td>\n",
       "    </tr>\n",
       "    <tr>\n",
       "      <th>2004-08-23</th>\n",
       "      <td>2.758411</td>\n",
       "      <td>2.826406</td>\n",
       "      <td>2.716070</td>\n",
       "      <td>2.724787</td>\n",
       "      <td>2.724787</td>\n",
       "      <td>366857939</td>\n",
       "    </tr>\n",
       "    <tr>\n",
       "      <th>2004-08-24</th>\n",
       "      <td>2.770615</td>\n",
       "      <td>2.779581</td>\n",
       "      <td>2.579581</td>\n",
       "      <td>2.611960</td>\n",
       "      <td>2.611960</td>\n",
       "      <td>306396159</td>\n",
       "    </tr>\n",
       "    <tr>\n",
       "      <th>2004-08-25</th>\n",
       "      <td>2.614201</td>\n",
       "      <td>2.689918</td>\n",
       "      <td>2.587302</td>\n",
       "      <td>2.640104</td>\n",
       "      <td>2.640104</td>\n",
       "      <td>184645512</td>\n",
       "    </tr>\n",
       "  </tbody>\n",
       "</table>\n",
       "</div>"
      ],
      "text/plain": [
       "                Open      High       Low     Close  Adj Close     Volume\n",
       "Date                                                                    \n",
       "2004-08-19  2.490664  2.591785  2.390042  2.499133   2.499133  897427216\n",
       "2004-08-20  2.515820  2.716817  2.503118  2.697639   2.697639  458857488\n",
       "2004-08-23  2.758411  2.826406  2.716070  2.724787   2.724787  366857939\n",
       "2004-08-24  2.770615  2.779581  2.579581  2.611960   2.611960  306396159\n",
       "2004-08-25  2.614201  2.689918  2.587302  2.640104   2.640104  184645512"
      ]
     },
     "execution_count": 32,
     "metadata": {},
     "output_type": "execute_result"
    }
   ],
   "source": [
    "goog_df.head()"
   ]
  },
  {
   "cell_type": "code",
   "execution_count": 33,
   "metadata": {},
   "outputs": [
    {
     "data": {
      "text/plain": [
       "<Axes: xlabel='Date'>"
      ]
     },
     "execution_count": 33,
     "metadata": {},
     "output_type": "execute_result"
    },
    {
     "data": {
      "image/png": "[encoded data removed]",
      "text/plain": [
       "<Figure size 640x480 with 1 Axes>"
      ]
     },
     "metadata": {},
     "output_type": "display_data"
    }
   ],
   "source": [
    "goog_df['Close'].plot()"
   ]
  },
  {
   "cell_type": "code",
   "execution_count": 34,
   "metadata": {},
   "outputs": [
    {
     "data": {
      "text/html": [
       "<div>\n",
       "<style scoped>\n",
       "    .dataframe tbody tr th:only-of-type {\n",
       "        vertical-align: middle;\n",
       "    }\n",
       "\n",
       "    .dataframe tbody tr th {\n",
       "        vertical-align: top;\n",
       "    }\n",
       "\n",
       "    .dataframe thead th {\n",
       "        text-align: right;\n",
       "    }\n",
       "</style>\n",
       "<table border=\"1\" class=\"dataframe\">\n",
       "  <thead>\n",
       "    <tr style=\"text-align: right;\">\n",
       "      <th></th>\n",
       "      <th>Open</th>\n",
       "      <th>High</th>\n",
       "      <th>Low</th>\n",
       "      <th>Close</th>\n",
       "      <th>Adj Close</th>\n",
       "      <th>Volume</th>\n",
       "    </tr>\n",
       "  </thead>\n",
       "  <tbody>\n",
       "    <tr>\n",
       "      <th>count</th>\n",
       "      <td>4662.000000</td>\n",
       "      <td>4662.000000</td>\n",
       "      <td>4662.000000</td>\n",
       "      <td>4662.000000</td>\n",
       "      <td>4662.000000</td>\n",
       "      <td>4.662000e+03</td>\n",
       "    </tr>\n",
       "    <tr>\n",
       "      <th>mean</th>\n",
       "      <td>38.078492</td>\n",
       "      <td>38.474174</td>\n",
       "      <td>37.685770</td>\n",
       "      <td>38.086218</td>\n",
       "      <td>38.086218</td>\n",
       "      <td>1.228960e+08</td>\n",
       "    </tr>\n",
       "    <tr>\n",
       "      <th>std</th>\n",
       "      <td>35.460009</td>\n",
       "      <td>35.856818</td>\n",
       "      <td>35.080339</td>\n",
       "      <td>35.471011</td>\n",
       "      <td>35.471011</td>\n",
       "      <td>1.531007e+08</td>\n",
       "    </tr>\n",
       "    <tr>\n",
       "      <th>min</th>\n",
       "      <td>2.470490</td>\n",
       "      <td>2.534002</td>\n",
       "      <td>2.390042</td>\n",
       "      <td>2.490913</td>\n",
       "      <td>2.490913</td>\n",
       "      <td>1.584340e+05</td>\n",
       "    </tr>\n",
       "    <tr>\n",
       "      <th>25%</th>\n",
       "      <td>12.640434</td>\n",
       "      <td>12.746411</td>\n",
       "      <td>12.466273</td>\n",
       "      <td>12.614032</td>\n",
       "      <td>12.614032</td>\n",
       "      <td>2.972750e+07</td>\n",
       "    </tr>\n",
       "    <tr>\n",
       "      <th>50%</th>\n",
       "      <td>25.440536</td>\n",
       "      <td>25.659696</td>\n",
       "      <td>25.129663</td>\n",
       "      <td>25.436408</td>\n",
       "      <td>25.436408</td>\n",
       "      <td>6.729530e+07</td>\n",
       "    </tr>\n",
       "    <tr>\n",
       "      <th>75%</th>\n",
       "      <td>54.288624</td>\n",
       "      <td>54.854250</td>\n",
       "      <td>53.672250</td>\n",
       "      <td>54.300501</td>\n",
       "      <td>54.300501</td>\n",
       "      <td>1.533015e+08</td>\n",
       "    </tr>\n",
       "    <tr>\n",
       "      <th>max</th>\n",
       "      <td>151.863495</td>\n",
       "      <td>152.100006</td>\n",
       "      <td>149.887497</td>\n",
       "      <td>150.709000</td>\n",
       "      <td>150.709000</td>\n",
       "      <td>1.650833e+09</td>\n",
       "    </tr>\n",
       "  </tbody>\n",
       "</table>\n",
       "</div>"
      ],
      "text/plain": [
       "              Open         High          Low        Close    Adj Close  \\\n",
       "count  4662.000000  4662.000000  4662.000000  4662.000000  4662.000000   \n",
       "mean     38.078492    38.474174    37.685770    38.086218    38.086218   \n",
       "std      35.460009    35.856818    35.080339    35.471011    35.471011   \n",
       "min       2.470490     2.534002     2.390042     2.490913     2.490913   \n",
       "25%      12.640434    12.746411    12.466273    12.614032    12.614032   \n",
       "50%      25.440536    25.659696    25.129663    25.436408    25.436408   \n",
       "75%      54.288624    54.854250    53.672250    54.300501    54.300501   \n",
       "max     151.863495   152.100006   149.887497   150.709000   150.709000   \n",
       "\n",
       "             Volume  \n",
       "count  4.662000e+03  \n",
       "mean   1.228960e+08  \n",
       "std    1.531007e+08  \n",
       "min    1.584340e+05  \n",
       "25%    2.972750e+07  \n",
       "50%    6.729530e+07  \n",
       "75%    1.533015e+08  \n",
       "max    1.650833e+09  "
      ]
     },
     "execution_count": 34,
     "metadata": {},
     "output_type": "execute_result"
    }
   ],
   "source": [
    "goog_df.describe()"
   ]
  },
  {
   "cell_type": "code",
   "execution_count": 36,
   "metadata": {},
   "outputs": [
    {
     "name": "stdout",
     "output_type": "stream",
     "text": [
      "[*********************100%***********************]  1 of 1 completed\n"
     ]
    }
   ],
   "source": [
    "# Definimos la fecha de inicio de los ultimo 23 años\n",
    "start_date = datetime.now() - timedelta(days=23*365)\n",
    "# Descargar los datos históricos de Amazon\n",
    "amzn_df = yf.download('AMZN', start=start_date)"
   ]
  },
  {
   "cell_type": "code",
   "execution_count": 37,
   "metadata": {},
   "outputs": [],
   "source": [
    "amzn_df.to_csv('./amzn.csv')"
   ]
  },
  {
   "cell_type": "code",
   "execution_count": 38,
   "metadata": {},
   "outputs": [],
   "source": [
    "amzn_df=pd.read_csv('./amzn.csv',index_col=0,parse_dates=True)"
   ]
  },
  {
   "cell_type": "code",
   "execution_count": 39,
   "metadata": {},
   "outputs": [
    {
     "data": {
      "text/html": [
       "<div>\n",
       "<style scoped>\n",
       "    .dataframe tbody tr th:only-of-type {\n",
       "        vertical-align: middle;\n",
       "    }\n",
       "\n",
       "    .dataframe tbody tr th {\n",
       "        vertical-align: top;\n",
       "    }\n",
       "\n",
       "    .dataframe thead th {\n",
       "        text-align: right;\n",
       "    }\n",
       "</style>\n",
       "<table border=\"1\" class=\"dataframe\">\n",
       "  <thead>\n",
       "    <tr style=\"text-align: right;\">\n",
       "      <th></th>\n",
       "      <th>Open</th>\n",
       "      <th>High</th>\n",
       "      <th>Low</th>\n",
       "      <th>Close</th>\n",
       "      <th>Adj Close</th>\n",
       "      <th>Volume</th>\n",
       "    </tr>\n",
       "    <tr>\n",
       "      <th>Date</th>\n",
       "      <th></th>\n",
       "      <th></th>\n",
       "      <th></th>\n",
       "      <th></th>\n",
       "      <th></th>\n",
       "      <th></th>\n",
       "    </tr>\n",
       "  </thead>\n",
       "  <tbody>\n",
       "    <tr>\n",
       "      <th>2000-03-03</th>\n",
       "      <td>3.16250</td>\n",
       "      <td>3.237500</td>\n",
       "      <td>3.103125</td>\n",
       "      <td>3.125000</td>\n",
       "      <td>3.125000</td>\n",
       "      <td>121190000</td>\n",
       "    </tr>\n",
       "    <tr>\n",
       "      <th>2000-03-06</th>\n",
       "      <td>3.14375</td>\n",
       "      <td>3.362500</td>\n",
       "      <td>3.140625</td>\n",
       "      <td>3.196875</td>\n",
       "      <td>3.196875</td>\n",
       "      <td>153316000</td>\n",
       "    </tr>\n",
       "    <tr>\n",
       "      <th>2000-03-07</th>\n",
       "      <td>3.24375</td>\n",
       "      <td>3.290625</td>\n",
       "      <td>3.106250</td>\n",
       "      <td>3.175000</td>\n",
       "      <td>3.175000</td>\n",
       "      <td>83576000</td>\n",
       "    </tr>\n",
       "    <tr>\n",
       "      <th>2000-03-08</th>\n",
       "      <td>3.16250</td>\n",
       "      <td>3.237500</td>\n",
       "      <td>3.028125</td>\n",
       "      <td>3.181250</td>\n",
       "      <td>3.181250</td>\n",
       "      <td>118814000</td>\n",
       "    </tr>\n",
       "    <tr>\n",
       "      <th>2000-03-09</th>\n",
       "      <td>3.15000</td>\n",
       "      <td>3.450000</td>\n",
       "      <td>3.109375</td>\n",
       "      <td>3.440625</td>\n",
       "      <td>3.440625</td>\n",
       "      <td>166250000</td>\n",
       "    </tr>\n",
       "  </tbody>\n",
       "</table>\n",
       "</div>"
      ],
      "text/plain": [
       "               Open      High       Low     Close  Adj Close     Volume\n",
       "Date                                                                   \n",
       "2000-03-03  3.16250  3.237500  3.103125  3.125000   3.125000  121190000\n",
       "2000-03-06  3.14375  3.362500  3.140625  3.196875   3.196875  153316000\n",
       "2000-03-07  3.24375  3.290625  3.106250  3.175000   3.175000   83576000\n",
       "2000-03-08  3.16250  3.237500  3.028125  3.181250   3.181250  118814000\n",
       "2000-03-09  3.15000  3.450000  3.109375  3.440625   3.440625  166250000"
      ]
     },
     "execution_count": 39,
     "metadata": {},
     "output_type": "execute_result"
    }
   ],
   "source": [
    "amzn_df.head()"
   ]
  },
  {
   "cell_type": "code",
   "execution_count": 40,
   "metadata": {},
   "outputs": [
    {
     "data": {
      "text/html": [
       "<div>\n",
       "<style scoped>\n",
       "    .dataframe tbody tr th:only-of-type {\n",
       "        vertical-align: middle;\n",
       "    }\n",
       "\n",
       "    .dataframe tbody tr th {\n",
       "        vertical-align: top;\n",
       "    }\n",
       "\n",
       "    .dataframe thead th {\n",
       "        text-align: right;\n",
       "    }\n",
       "</style>\n",
       "<table border=\"1\" class=\"dataframe\">\n",
       "  <thead>\n",
       "    <tr style=\"text-align: right;\">\n",
       "      <th></th>\n",
       "      <th>Open</th>\n",
       "      <th>High</th>\n",
       "      <th>Low</th>\n",
       "      <th>Close</th>\n",
       "      <th>Adj Close</th>\n",
       "      <th>Volume</th>\n",
       "    </tr>\n",
       "  </thead>\n",
       "  <tbody>\n",
       "    <tr>\n",
       "      <th>count</th>\n",
       "      <td>5782.000000</td>\n",
       "      <td>5782.000000</td>\n",
       "      <td>5782.000000</td>\n",
       "      <td>5782.000000</td>\n",
       "      <td>5782.000000</td>\n",
       "      <td>5.782000e+03</td>\n",
       "    </tr>\n",
       "    <tr>\n",
       "      <th>mean</th>\n",
       "      <td>34.940708</td>\n",
       "      <td>35.354194</td>\n",
       "      <td>34.484797</td>\n",
       "      <td>34.927086</td>\n",
       "      <td>34.927086</td>\n",
       "      <td>1.233730e+08</td>\n",
       "    </tr>\n",
       "    <tr>\n",
       "      <th>std</th>\n",
       "      <td>49.658609</td>\n",
       "      <td>50.242550</td>\n",
       "      <td>49.003850</td>\n",
       "      <td>49.619844</td>\n",
       "      <td>49.619844</td>\n",
       "      <td>9.813005e+07</td>\n",
       "    </tr>\n",
       "    <tr>\n",
       "      <th>min</th>\n",
       "      <td>0.295500</td>\n",
       "      <td>0.305000</td>\n",
       "      <td>0.275500</td>\n",
       "      <td>0.298500</td>\n",
       "      <td>0.298500</td>\n",
       "      <td>1.762600e+07</td>\n",
       "    </tr>\n",
       "    <tr>\n",
       "      <th>25%</th>\n",
       "      <td>2.195250</td>\n",
       "      <td>2.240500</td>\n",
       "      <td>2.165500</td>\n",
       "      <td>2.199250</td>\n",
       "      <td>2.199250</td>\n",
       "      <td>6.786950e+07</td>\n",
       "    </tr>\n",
       "    <tr>\n",
       "      <th>50%</th>\n",
       "      <td>9.531250</td>\n",
       "      <td>9.675000</td>\n",
       "      <td>9.373000</td>\n",
       "      <td>9.540500</td>\n",
       "      <td>9.540500</td>\n",
       "      <td>1.014300e+08</td>\n",
       "    </tr>\n",
       "    <tr>\n",
       "      <th>75%</th>\n",
       "      <td>47.794000</td>\n",
       "      <td>48.128125</td>\n",
       "      <td>47.447001</td>\n",
       "      <td>47.803750</td>\n",
       "      <td>47.803750</td>\n",
       "      <td>1.475985e+08</td>\n",
       "    </tr>\n",
       "    <tr>\n",
       "      <th>max</th>\n",
       "      <td>187.199997</td>\n",
       "      <td>188.654007</td>\n",
       "      <td>184.839493</td>\n",
       "      <td>186.570496</td>\n",
       "      <td>186.570496</td>\n",
       "      <td>2.086584e+09</td>\n",
       "    </tr>\n",
       "  </tbody>\n",
       "</table>\n",
       "</div>"
      ],
      "text/plain": [
       "              Open         High          Low        Close    Adj Close  \\\n",
       "count  5782.000000  5782.000000  5782.000000  5782.000000  5782.000000   \n",
       "mean     34.940708    35.354194    34.484797    34.927086    34.927086   \n",
       "std      49.658609    50.242550    49.003850    49.619844    49.619844   \n",
       "min       0.295500     0.305000     0.275500     0.298500     0.298500   \n",
       "25%       2.195250     2.240500     2.165500     2.199250     2.199250   \n",
       "50%       9.531250     9.675000     9.373000     9.540500     9.540500   \n",
       "75%      47.794000    48.128125    47.447001    47.803750    47.803750   \n",
       "max     187.199997   188.654007   184.839493   186.570496   186.570496   \n",
       "\n",
       "             Volume  \n",
       "count  5.782000e+03  \n",
       "mean   1.233730e+08  \n",
       "std    9.813005e+07  \n",
       "min    1.762600e+07  \n",
       "25%    6.786950e+07  \n",
       "50%    1.014300e+08  \n",
       "75%    1.475985e+08  \n",
       "max    2.086584e+09  "
      ]
     },
     "execution_count": 40,
     "metadata": {},
     "output_type": "execute_result"
    }
   ],
   "source": [
    "amzn_df.describe()"
   ]
  },
  {
   "cell_type": "code",
   "execution_count": 41,
   "metadata": {},
   "outputs": [
    {
     "data": {
      "text/plain": [
       "<Axes: xlabel='Date'>"
      ]
     },
     "execution_count": 41,
     "metadata": {},
     "output_type": "execute_result"
    },
    {
     "data": {
      "image/png": "[encoded data removed]",
      "text/plain": [
       "<Figure size 640x480 with 1 Axes>"
      ]
     },
     "metadata": {},
     "output_type": "display_data"
    }
   ],
   "source": [
    "amzn_df['Close'].plot()"
   ]
  },
  {
   "cell_type": "code",
   "execution_count": null,
   "metadata": {},
   "outputs": [],
   "source": []
  }
 ],
 "metadata": {
  "kernelspec": {
   "display_name": "ws_env",
   "language": "python",
   "name": "python3"
  },
  "language_info": {
   "codemirror_mode": {
    "name": "ipython",
    "version": 3
   },
   "file_extension": ".py",
   "mimetype": "text/x-python",
   "name": "python",
   "nbconvert_exporter": "python",
   "pygments_lexer": "ipython3",
   "version": "3.11.2"
  },
  "orig_nbformat": 4,
  "vscode": {
   "interpreter": {
    "hash": "f96166fcf7ad74259fdaa97a46098540ddcb5e9a99fa42ec07e284993916ec5f"
   }
  }
 },
 "nbformat": 4,
 "nbformat_minor": 2
}
